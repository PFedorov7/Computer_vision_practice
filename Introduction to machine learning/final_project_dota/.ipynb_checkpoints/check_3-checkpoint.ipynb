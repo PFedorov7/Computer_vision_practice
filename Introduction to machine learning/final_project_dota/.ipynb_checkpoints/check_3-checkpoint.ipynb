{
 "cells": [
  {
   "cell_type": "markdown",
   "metadata": {},
   "source": [
    "# Финальное задание\n",
    "## Игра Dota 2"
   ]
  },
  {
   "cell_type": "markdown",
   "metadata": {},
   "source": [
    "## Задача: предсказание победы по данным о первых 5 минутах игры\n",
    "\n",
    "По первым 5 минутам игры предсказать, какая из команд победит: Radiant или Dire?"
   ]
  },
  {
   "cell_type": "markdown",
   "metadata": {},
   "source": [
    "### Подход 1: градиентный бустинг \"в лоб\""
   ]
  },
  {
   "cell_type": "markdown",
   "metadata": {},
   "source": [
    "#### Подготовка данных"
   ]
  },
  {
   "cell_type": "markdown",
   "metadata": {},
   "source": [
    "Проведем загрузку данных и преварительную обработку данных:\n",
    "1. уберем из выборки признаки, которые содержат итоги матчей: radiant_win, duration, tower_status_radiant, tower_status_dire, barracks_status_radiant, barracks_status_dire;\n",
    "2. Выделим целевую переменную (radiant_win) от признаков."
   ]
  },
  {
   "cell_type": "code",
   "execution_count": 4,
   "metadata": {},
   "outputs": [],
   "source": [
    "import pandas as pd"
   ]
  },
  {
   "cell_type": "code",
   "execution_count": 8,
   "metadata": {},
   "outputs": [],
   "source": [
    "features = pd.read_csv('features.csv', index_col='match_id')\n",
    "X = features.drop([\"radiant_win\", \"duration\", \"tower_status_radiant\", \"tower_status_dire\", \"barracks_status_radiant\", \n",
    "                    \"barracks_status_dire\"], 1)\n",
    "y = features[[\"radiant_win\"]]"
   ]
  },
  {
   "cell_type": "code",
   "execution_count": 9,
   "metadata": {},
   "outputs": [
    {
     "data": {
      "text/html": [
       "<div>\n",
       "<style scoped>\n",
       "    .dataframe tbody tr th:only-of-type {\n",
       "        vertical-align: middle;\n",
       "    }\n",
       "\n",
       "    .dataframe tbody tr th {\n",
       "        vertical-align: top;\n",
       "    }\n",
       "\n",
       "    .dataframe thead th {\n",
       "        text-align: right;\n",
       "    }\n",
       "</style>\n",
       "<table border=\"1\" class=\"dataframe\">\n",
       "  <thead>\n",
       "    <tr style=\"text-align: right;\">\n",
       "      <th></th>\n",
       "      <th>start_time</th>\n",
       "      <th>lobby_type</th>\n",
       "      <th>r1_hero</th>\n",
       "      <th>r1_level</th>\n",
       "      <th>r1_xp</th>\n",
       "      <th>r1_gold</th>\n",
       "      <th>r1_lh</th>\n",
       "      <th>r1_kills</th>\n",
       "      <th>r1_deaths</th>\n",
       "      <th>r1_items</th>\n",
       "      <th>...</th>\n",
       "      <th>radiant_ward_sentry_count</th>\n",
       "      <th>radiant_first_ward_time</th>\n",
       "      <th>dire_bottle_time</th>\n",
       "      <th>dire_courier_time</th>\n",
       "      <th>dire_flying_courier_time</th>\n",
       "      <th>dire_tpscroll_count</th>\n",
       "      <th>dire_boots_count</th>\n",
       "      <th>dire_ward_observer_count</th>\n",
       "      <th>dire_ward_sentry_count</th>\n",
       "      <th>dire_first_ward_time</th>\n",
       "    </tr>\n",
       "    <tr>\n",
       "      <th>match_id</th>\n",
       "      <th></th>\n",
       "      <th></th>\n",
       "      <th></th>\n",
       "      <th></th>\n",
       "      <th></th>\n",
       "      <th></th>\n",
       "      <th></th>\n",
       "      <th></th>\n",
       "      <th></th>\n",
       "      <th></th>\n",
       "      <th></th>\n",
       "      <th></th>\n",
       "      <th></th>\n",
       "      <th></th>\n",
       "      <th></th>\n",
       "      <th></th>\n",
       "      <th></th>\n",
       "      <th></th>\n",
       "      <th></th>\n",
       "      <th></th>\n",
       "      <th></th>\n",
       "    </tr>\n",
       "  </thead>\n",
       "  <tbody>\n",
       "    <tr>\n",
       "      <th>0</th>\n",
       "      <td>1430198770</td>\n",
       "      <td>7</td>\n",
       "      <td>11</td>\n",
       "      <td>5</td>\n",
       "      <td>2098</td>\n",
       "      <td>1489</td>\n",
       "      <td>20</td>\n",
       "      <td>0</td>\n",
       "      <td>0</td>\n",
       "      <td>7</td>\n",
       "      <td>...</td>\n",
       "      <td>0</td>\n",
       "      <td>35.0</td>\n",
       "      <td>103.0</td>\n",
       "      <td>-84.0</td>\n",
       "      <td>221.0</td>\n",
       "      <td>3</td>\n",
       "      <td>4</td>\n",
       "      <td>2</td>\n",
       "      <td>2</td>\n",
       "      <td>-52.0</td>\n",
       "    </tr>\n",
       "    <tr>\n",
       "      <th>1</th>\n",
       "      <td>1430220345</td>\n",
       "      <td>0</td>\n",
       "      <td>42</td>\n",
       "      <td>4</td>\n",
       "      <td>1188</td>\n",
       "      <td>1033</td>\n",
       "      <td>9</td>\n",
       "      <td>0</td>\n",
       "      <td>1</td>\n",
       "      <td>12</td>\n",
       "      <td>...</td>\n",
       "      <td>0</td>\n",
       "      <td>-20.0</td>\n",
       "      <td>149.0</td>\n",
       "      <td>-84.0</td>\n",
       "      <td>195.0</td>\n",
       "      <td>5</td>\n",
       "      <td>4</td>\n",
       "      <td>3</td>\n",
       "      <td>1</td>\n",
       "      <td>-5.0</td>\n",
       "    </tr>\n",
       "    <tr>\n",
       "      <th>2</th>\n",
       "      <td>1430227081</td>\n",
       "      <td>7</td>\n",
       "      <td>33</td>\n",
       "      <td>4</td>\n",
       "      <td>1319</td>\n",
       "      <td>1270</td>\n",
       "      <td>22</td>\n",
       "      <td>0</td>\n",
       "      <td>0</td>\n",
       "      <td>12</td>\n",
       "      <td>...</td>\n",
       "      <td>1</td>\n",
       "      <td>-39.0</td>\n",
       "      <td>45.0</td>\n",
       "      <td>-77.0</td>\n",
       "      <td>221.0</td>\n",
       "      <td>3</td>\n",
       "      <td>4</td>\n",
       "      <td>3</td>\n",
       "      <td>1</td>\n",
       "      <td>13.0</td>\n",
       "    </tr>\n",
       "    <tr>\n",
       "      <th>3</th>\n",
       "      <td>1430263531</td>\n",
       "      <td>1</td>\n",
       "      <td>29</td>\n",
       "      <td>4</td>\n",
       "      <td>1779</td>\n",
       "      <td>1056</td>\n",
       "      <td>14</td>\n",
       "      <td>0</td>\n",
       "      <td>0</td>\n",
       "      <td>5</td>\n",
       "      <td>...</td>\n",
       "      <td>0</td>\n",
       "      <td>-30.0</td>\n",
       "      <td>124.0</td>\n",
       "      <td>-80.0</td>\n",
       "      <td>184.0</td>\n",
       "      <td>0</td>\n",
       "      <td>4</td>\n",
       "      <td>2</td>\n",
       "      <td>0</td>\n",
       "      <td>27.0</td>\n",
       "    </tr>\n",
       "    <tr>\n",
       "      <th>4</th>\n",
       "      <td>1430282290</td>\n",
       "      <td>7</td>\n",
       "      <td>13</td>\n",
       "      <td>4</td>\n",
       "      <td>1431</td>\n",
       "      <td>1090</td>\n",
       "      <td>8</td>\n",
       "      <td>1</td>\n",
       "      <td>0</td>\n",
       "      <td>8</td>\n",
       "      <td>...</td>\n",
       "      <td>0</td>\n",
       "      <td>46.0</td>\n",
       "      <td>182.0</td>\n",
       "      <td>-80.0</td>\n",
       "      <td>225.0</td>\n",
       "      <td>6</td>\n",
       "      <td>3</td>\n",
       "      <td>3</td>\n",
       "      <td>0</td>\n",
       "      <td>-16.0</td>\n",
       "    </tr>\n",
       "    <tr>\n",
       "      <th>5</th>\n",
       "      <td>1430284186</td>\n",
       "      <td>1</td>\n",
       "      <td>11</td>\n",
       "      <td>5</td>\n",
       "      <td>1961</td>\n",
       "      <td>1461</td>\n",
       "      <td>19</td>\n",
       "      <td>0</td>\n",
       "      <td>1</td>\n",
       "      <td>6</td>\n",
       "      <td>...</td>\n",
       "      <td>1</td>\n",
       "      <td>-27.0</td>\n",
       "      <td>2.0</td>\n",
       "      <td>-86.0</td>\n",
       "      <td>212.0</td>\n",
       "      <td>4</td>\n",
       "      <td>4</td>\n",
       "      <td>4</td>\n",
       "      <td>0</td>\n",
       "      <td>-43.0</td>\n",
       "    </tr>\n",
       "    <tr>\n",
       "      <th>8</th>\n",
       "      <td>1430293701</td>\n",
       "      <td>1</td>\n",
       "      <td>8</td>\n",
       "      <td>3</td>\n",
       "      <td>967</td>\n",
       "      <td>1136</td>\n",
       "      <td>7</td>\n",
       "      <td>1</td>\n",
       "      <td>0</td>\n",
       "      <td>8</td>\n",
       "      <td>...</td>\n",
       "      <td>2</td>\n",
       "      <td>-35.0</td>\n",
       "      <td>6.0</td>\n",
       "      <td>-86.0</td>\n",
       "      <td>182.0</td>\n",
       "      <td>3</td>\n",
       "      <td>6</td>\n",
       "      <td>3</td>\n",
       "      <td>0</td>\n",
       "      <td>10.0</td>\n",
       "    </tr>\n",
       "    <tr>\n",
       "      <th>9</th>\n",
       "      <td>1430299335</td>\n",
       "      <td>7</td>\n",
       "      <td>35</td>\n",
       "      <td>5</td>\n",
       "      <td>2117</td>\n",
       "      <td>1252</td>\n",
       "      <td>16</td>\n",
       "      <td>0</td>\n",
       "      <td>0</td>\n",
       "      <td>6</td>\n",
       "      <td>...</td>\n",
       "      <td>1</td>\n",
       "      <td>26.0</td>\n",
       "      <td>119.0</td>\n",
       "      <td>-61.0</td>\n",
       "      <td>NaN</td>\n",
       "      <td>2</td>\n",
       "      <td>3</td>\n",
       "      <td>4</td>\n",
       "      <td>0</td>\n",
       "      <td>-15.0</td>\n",
       "    </tr>\n",
       "    <tr>\n",
       "      <th>11</th>\n",
       "      <td>1430308974</td>\n",
       "      <td>1</td>\n",
       "      <td>17</td>\n",
       "      <td>5</td>\n",
       "      <td>1527</td>\n",
       "      <td>906</td>\n",
       "      <td>10</td>\n",
       "      <td>0</td>\n",
       "      <td>1</td>\n",
       "      <td>7</td>\n",
       "      <td>...</td>\n",
       "      <td>1</td>\n",
       "      <td>9.0</td>\n",
       "      <td>NaN</td>\n",
       "      <td>-84.0</td>\n",
       "      <td>226.0</td>\n",
       "      <td>1</td>\n",
       "      <td>3</td>\n",
       "      <td>4</td>\n",
       "      <td>0</td>\n",
       "      <td>26.0</td>\n",
       "    </tr>\n",
       "    <tr>\n",
       "      <th>12</th>\n",
       "      <td>1430316105</td>\n",
       "      <td>7</td>\n",
       "      <td>15</td>\n",
       "      <td>5</td>\n",
       "      <td>1651</td>\n",
       "      <td>1060</td>\n",
       "      <td>14</td>\n",
       "      <td>0</td>\n",
       "      <td>1</td>\n",
       "      <td>10</td>\n",
       "      <td>...</td>\n",
       "      <td>0</td>\n",
       "      <td>-24.0</td>\n",
       "      <td>186.0</td>\n",
       "      <td>-83.0</td>\n",
       "      <td>195.0</td>\n",
       "      <td>1</td>\n",
       "      <td>3</td>\n",
       "      <td>2</td>\n",
       "      <td>0</td>\n",
       "      <td>16.0</td>\n",
       "    </tr>\n",
       "  </tbody>\n",
       "</table>\n",
       "<p>10 rows × 102 columns</p>\n",
       "</div>"
      ],
      "text/plain": [
       "          start_time  lobby_type  r1_hero  r1_level  r1_xp  r1_gold  r1_lh  \\\n",
       "match_id                                                                     \n",
       "0         1430198770           7       11         5   2098     1489     20   \n",
       "1         1430220345           0       42         4   1188     1033      9   \n",
       "2         1430227081           7       33         4   1319     1270     22   \n",
       "3         1430263531           1       29         4   1779     1056     14   \n",
       "4         1430282290           7       13         4   1431     1090      8   \n",
       "5         1430284186           1       11         5   1961     1461     19   \n",
       "8         1430293701           1        8         3    967     1136      7   \n",
       "9         1430299335           7       35         5   2117     1252     16   \n",
       "11        1430308974           1       17         5   1527      906     10   \n",
       "12        1430316105           7       15         5   1651     1060     14   \n",
       "\n",
       "          r1_kills  r1_deaths  r1_items          ...           \\\n",
       "match_id                                         ...            \n",
       "0                0          0         7          ...            \n",
       "1                0          1        12          ...            \n",
       "2                0          0        12          ...            \n",
       "3                0          0         5          ...            \n",
       "4                1          0         8          ...            \n",
       "5                0          1         6          ...            \n",
       "8                1          0         8          ...            \n",
       "9                0          0         6          ...            \n",
       "11               0          1         7          ...            \n",
       "12               0          1        10          ...            \n",
       "\n",
       "          radiant_ward_sentry_count  radiant_first_ward_time  \\\n",
       "match_id                                                       \n",
       "0                                 0                     35.0   \n",
       "1                                 0                    -20.0   \n",
       "2                                 1                    -39.0   \n",
       "3                                 0                    -30.0   \n",
       "4                                 0                     46.0   \n",
       "5                                 1                    -27.0   \n",
       "8                                 2                    -35.0   \n",
       "9                                 1                     26.0   \n",
       "11                                1                      9.0   \n",
       "12                                0                    -24.0   \n",
       "\n",
       "          dire_bottle_time  dire_courier_time  dire_flying_courier_time  \\\n",
       "match_id                                                                  \n",
       "0                    103.0              -84.0                     221.0   \n",
       "1                    149.0              -84.0                     195.0   \n",
       "2                     45.0              -77.0                     221.0   \n",
       "3                    124.0              -80.0                     184.0   \n",
       "4                    182.0              -80.0                     225.0   \n",
       "5                      2.0              -86.0                     212.0   \n",
       "8                      6.0              -86.0                     182.0   \n",
       "9                    119.0              -61.0                       NaN   \n",
       "11                     NaN              -84.0                     226.0   \n",
       "12                   186.0              -83.0                     195.0   \n",
       "\n",
       "          dire_tpscroll_count  dire_boots_count  dire_ward_observer_count  \\\n",
       "match_id                                                                    \n",
       "0                           3                 4                         2   \n",
       "1                           5                 4                         3   \n",
       "2                           3                 4                         3   \n",
       "3                           0                 4                         2   \n",
       "4                           6                 3                         3   \n",
       "5                           4                 4                         4   \n",
       "8                           3                 6                         3   \n",
       "9                           2                 3                         4   \n",
       "11                          1                 3                         4   \n",
       "12                          1                 3                         2   \n",
       "\n",
       "          dire_ward_sentry_count  dire_first_ward_time  \n",
       "match_id                                                \n",
       "0                              2                 -52.0  \n",
       "1                              1                  -5.0  \n",
       "2                              1                  13.0  \n",
       "3                              0                  27.0  \n",
       "4                              0                 -16.0  \n",
       "5                              0                 -43.0  \n",
       "8                              0                  10.0  \n",
       "9                              0                 -15.0  \n",
       "11                             0                  26.0  \n",
       "12                             0                  16.0  \n",
       "\n",
       "[10 rows x 102 columns]"
      ]
     },
     "execution_count": 9,
     "metadata": {},
     "output_type": "execute_result"
    }
   ],
   "source": [
    "X.head(10)"
   ]
  },
  {
   "cell_type": "markdown",
   "metadata": {},
   "source": [
    "#### Описание признаков в таблице\n",
    "\n",
    "- `match_id`: идентификатор матча в наборе данных\n",
    "- `start_time`: время начала матча (unixtime)\n",
    "- `lobby_type`: тип комнаты, в которой собираются игроки (`-1`:Invalid, `0`:Public matchmaking, `1`:Practice, `2`:Tournament, `3`:Tutorial, `4`:Co-op with bots, `5`:Team match, `6`:Solo Queue, `7`:Ranked, `8`:Solo Mid 1vs1)\n",
    "- Наборы признаков для каждого игрока (игроки команды Radiant — префикс `rN`, Dire — `dN`):\n",
    "    - `r1_hero`: герой игрока (расшифровка в dictionaries/heroes.csv)\n",
    "    - `r1_level`: максимальный достигнутый уровень героя (за первые 5 игровых минут)\n",
    "    - `r1_xp`: максимальный полученный опыт\n",
    "    - `r1_gold`: достигнутая ценность героя\n",
    "    - `r1_lh`: число убитых юнитов\n",
    "    - `r1_kills`: число убитых игроков\n",
    "    - `r1_deaths`: число смертей героя\n",
    "    - `r1_items`: число купленных предметов\n",
    "- Признаки события \"первая кровь\" (first blood). Если событие \"первая кровь\" не успело произойти за первые 5 минут, то признаки принимают пропущенное значение\n",
    "    - `first_blood_time`: игровое время первой крови\n",
    "    - `first_blood_team`: команда, совершившая первую кровь (`0`:Radiant, `1`:Dire)\n",
    "    - `first_blood_player1`: игрок, причастный к событию\n",
    "    - `first_blood_player2`: второй игрок, причастный к событию\n",
    "- Признаки для каждой команды (префиксы `radiant_` и `dire_`)\n",
    "    - `radiant_bottle_time`: время первого приобретения командой предмета \"bottle\"\n",
    "    - `radiant_courier_time`: время приобретения предмета \"courier\" \n",
    "    - `radiant_flying_courier_time`: время приобретения предмета \"flying_courier\" \n",
    "    - `radiant_tpscroll_count`: число предметов \"tpscroll\" за первые 5 минут\n",
    "    - `radiant_boots_count`: число предметов \"boots\"\n",
    "    - `radiant_ward_observer_count`: число предметов \"ward_observer\"\n",
    "    - `radiant_ward_sentry_count`: число предметов \"ward_sentry\"\n",
    "    - `radiant_first_ward_time`: время установки командой первого \"наблюдателя\", т.е. предмета, который позволяет видеть часть игрового поля"
   ]
  },
  {
   "cell_type": "code",
   "execution_count": 10,
   "metadata": {},
   "outputs": [
    {
     "data": {
      "text/html": [
       "<div>\n",
       "<style scoped>\n",
       "    .dataframe tbody tr th:only-of-type {\n",
       "        vertical-align: middle;\n",
       "    }\n",
       "\n",
       "    .dataframe tbody tr th {\n",
       "        vertical-align: top;\n",
       "    }\n",
       "\n",
       "    .dataframe thead th {\n",
       "        text-align: right;\n",
       "    }\n",
       "</style>\n",
       "<table border=\"1\" class=\"dataframe\">\n",
       "  <thead>\n",
       "    <tr style=\"text-align: right;\">\n",
       "      <th></th>\n",
       "      <th>radiant_win</th>\n",
       "    </tr>\n",
       "    <tr>\n",
       "      <th>match_id</th>\n",
       "      <th></th>\n",
       "    </tr>\n",
       "  </thead>\n",
       "  <tbody>\n",
       "    <tr>\n",
       "      <th>0</th>\n",
       "      <td>1</td>\n",
       "    </tr>\n",
       "    <tr>\n",
       "      <th>1</th>\n",
       "      <td>1</td>\n",
       "    </tr>\n",
       "    <tr>\n",
       "      <th>2</th>\n",
       "      <td>0</td>\n",
       "    </tr>\n",
       "    <tr>\n",
       "      <th>3</th>\n",
       "      <td>0</td>\n",
       "    </tr>\n",
       "    <tr>\n",
       "      <th>4</th>\n",
       "      <td>0</td>\n",
       "    </tr>\n",
       "    <tr>\n",
       "      <th>5</th>\n",
       "      <td>0</td>\n",
       "    </tr>\n",
       "    <tr>\n",
       "      <th>8</th>\n",
       "      <td>0</td>\n",
       "    </tr>\n",
       "    <tr>\n",
       "      <th>9</th>\n",
       "      <td>1</td>\n",
       "    </tr>\n",
       "    <tr>\n",
       "      <th>11</th>\n",
       "      <td>0</td>\n",
       "    </tr>\n",
       "    <tr>\n",
       "      <th>12</th>\n",
       "      <td>0</td>\n",
       "    </tr>\n",
       "  </tbody>\n",
       "</table>\n",
       "</div>"
      ],
      "text/plain": [
       "          radiant_win\n",
       "match_id             \n",
       "0                   1\n",
       "1                   1\n",
       "2                   0\n",
       "3                   0\n",
       "4                   0\n",
       "5                   0\n",
       "8                   0\n",
       "9                   1\n",
       "11                  0\n",
       "12                  0"
      ]
     },
     "execution_count": 10,
     "metadata": {},
     "output_type": "execute_result"
    }
   ],
   "source": [
    "y.head(10)"
   ]
  },
  {
   "cell_type": "markdown",
   "metadata": {},
   "source": [
    "`radiant_win`: 1, если победила команда Radiant, 0 — иначе"
   ]
  },
  {
   "cell_type": "markdown",
   "metadata": {},
   "source": [
    "3. Проверим в каких принаках есть пропуски."
   ]
  },
  {
   "cell_type": "code",
   "execution_count": 13,
   "metadata": {},
   "outputs": [
    {
     "data": {
      "text/plain": [
       "first_blood_time               19553\n",
       "first_blood_team               19553\n",
       "first_blood_player1            19553\n",
       "first_blood_player2            43987\n",
       "radiant_bottle_time            15691\n",
       "radiant_courier_time             692\n",
       "radiant_flying_courier_time    27479\n",
       "radiant_first_ward_time         1836\n",
       "dire_bottle_time               16143\n",
       "dire_courier_time                676\n",
       "dire_flying_courier_time       26098\n",
       "dire_first_ward_time            1826\n",
       "dtype: int64"
      ]
     },
     "execution_count": 13,
     "metadata": {},
     "output_type": "execute_result"
    }
   ],
   "source": [
    "X.isnull().sum()[X.isnull().sum()>0]"
   ]
  },
  {
   "cell_type": "markdown",
   "metadata": {},
   "source": [
    "Пропуски в полях:\n",
    "* `first_blood_...` означают, что в игре в течение первых пяти минут не наступило событие \"Первая кровь\"\n",
    "* `radiant_bootle_time`, `dir_bootle_time` - предмет \"bottle\" не приобретался\n",
    "* `radiant_first_ward_time`, `dire_first_ward_time` - команда не устанавливала \"наблюдателя\" в первые 5 минут матча"
   ]
  },
  {
   "cell_type": "markdown",
   "metadata": {},
   "source": [
    "4. Заменим пропуски в полях на 0"
   ]
  },
  {
   "cell_type": "code",
   "execution_count": 14,
   "metadata": {},
   "outputs": [],
   "source": [
    "X.fillna(0, inplace=True)"
   ]
  },
  {
   "cell_type": "markdown",
   "metadata": {},
   "source": [
    "#### Градиентный бустинг "
   ]
  },
  {
   "cell_type": "markdown",
   "metadata": {},
   "source": [
    "С помощью градиентного бустинга спргнозируем результаты матчей. Рассмотрим несколько значений параметров модели: \n",
    "* learning_rate: 0.1, 0.2, ..., 0.9\n",
    "* количество деревьев в ансамбле: 10, 20, 30.\n",
    "\n",
    "Проведем NxK кросс-валидацию по 5 блокам для оценки качества каждой модели. В качестве критерия качества - площадь под ROC-кривой. Для оценки затраченного времени используем параметр `verbose`."
   ]
  },
  {
   "cell_type": "code",
   "execution_count": 18,
   "metadata": {},
   "outputs": [],
   "source": [
    "import numpy as np\n",
    "from sklearn.ensemble import GradientBoostingClassifier\n",
    "from sklearn.model_selection import KFold\n",
    "from sklearn.model_selection import GridSearchCV\n",
    "random_state_value = 168"
   ]
  },
  {
   "cell_type": "code",
   "execution_count": 82,
   "metadata": {},
   "outputs": [
    {
     "name": "stdout",
     "output_type": "stream",
     "text": [
      "Fitting 5 folds for each of 36 candidates, totalling 180 fits\n",
      "[CV] n_estimators=10, learning_rate=0.1 ..............................\n",
      "[CV]  n_estimators=10, learning_rate=0.1, score=0.66444131748, total=   5.3s\n",
      "[CV] n_estimators=10, learning_rate=0.1 ..............................\n"
     ]
    },
    {
     "name": "stderr",
     "output_type": "stream",
     "text": [
      "[Parallel(n_jobs=1)]: Done   1 out of   1 | elapsed:    5.5s remaining:    0.0s\n"
     ]
    },
    {
     "name": "stdout",
     "output_type": "stream",
     "text": [
      "[CV]  n_estimators=10, learning_rate=0.1, score=0.667644105178, total=   5.0s\n",
      "[CV] n_estimators=10, learning_rate=0.1 ..............................\n"
     ]
    },
    {
     "name": "stderr",
     "output_type": "stream",
     "text": [
      "[Parallel(n_jobs=1)]: Done   2 out of   2 | elapsed:   10.8s remaining:    0.0s\n"
     ]
    },
    {
     "name": "stdout",
     "output_type": "stream",
     "text": [
      "[CV]  n_estimators=10, learning_rate=0.1, score=0.666380746047, total=   5.2s\n",
      "[CV] n_estimators=10, learning_rate=0.1 ..............................\n"
     ]
    },
    {
     "name": "stderr",
     "output_type": "stream",
     "text": [
      "[Parallel(n_jobs=1)]: Done   3 out of   3 | elapsed:   16.3s remaining:    0.0s\n"
     ]
    },
    {
     "name": "stdout",
     "output_type": "stream",
     "text": [
      "[CV]  n_estimators=10, learning_rate=0.1, score=0.656246446211, total=   5.0s\n",
      "[CV] n_estimators=10, learning_rate=0.1 ..............................\n"
     ]
    },
    {
     "name": "stderr",
     "output_type": "stream",
     "text": [
      "[Parallel(n_jobs=1)]: Done   4 out of   4 | elapsed:   21.5s remaining:    0.0s\n"
     ]
    },
    {
     "name": "stdout",
     "output_type": "stream",
     "text": [
      "[CV]  n_estimators=10, learning_rate=0.1, score=0.670241372415, total=   5.1s\n",
      "[CV] n_estimators=20, learning_rate=0.1 ..............................\n"
     ]
    },
    {
     "name": "stderr",
     "output_type": "stream",
     "text": [
      "[Parallel(n_jobs=1)]: Done   5 out of   5 | elapsed:   26.9s remaining:    0.0s\n"
     ]
    },
    {
     "name": "stdout",
     "output_type": "stream",
     "text": [
      "[CV]  n_estimators=20, learning_rate=0.1, score=0.683323684816, total=   9.4s\n",
      "[CV] n_estimators=20, learning_rate=0.1 ..............................\n"
     ]
    },
    {
     "name": "stderr",
     "output_type": "stream",
     "text": [
      "[Parallel(n_jobs=1)]: Done   6 out of   6 | elapsed:   36.6s remaining:    0.0s\n"
     ]
    },
    {
     "name": "stdout",
     "output_type": "stream",
     "text": [
      "[CV]  n_estimators=20, learning_rate=0.1, score=0.68464405256, total=   9.3s\n",
      "[CV] n_estimators=20, learning_rate=0.1 ..............................\n"
     ]
    },
    {
     "name": "stderr",
     "output_type": "stream",
     "text": [
      "[Parallel(n_jobs=1)]: Done   7 out of   7 | elapsed:   46.2s remaining:    0.0s\n"
     ]
    },
    {
     "name": "stdout",
     "output_type": "stream",
     "text": [
      "[CV]  n_estimators=20, learning_rate=0.1, score=0.68295059653, total=   9.5s\n",
      "[CV] n_estimators=20, learning_rate=0.1 ..............................\n"
     ]
    },
    {
     "name": "stderr",
     "output_type": "stream",
     "text": [
      "[Parallel(n_jobs=1)]: Done   8 out of   8 | elapsed:   56.0s remaining:    0.0s\n"
     ]
    },
    {
     "name": "stdout",
     "output_type": "stream",
     "text": [
      "[CV]  n_estimators=20, learning_rate=0.1, score=0.674026225263, total=   9.7s\n",
      "[CV] n_estimators=20, learning_rate=0.1 ..............................\n"
     ]
    },
    {
     "name": "stderr",
     "output_type": "stream",
     "text": [
      "[Parallel(n_jobs=1)]: Done   9 out of   9 | elapsed:  1.1min remaining:    0.0s\n"
     ]
    },
    {
     "name": "stdout",
     "output_type": "stream",
     "text": [
      "[CV]  n_estimators=20, learning_rate=0.1, score=0.687487012976, total=   9.2s\n",
      "[CV] n_estimators=30, learning_rate=0.1 ..............................\n",
      "[CV]  n_estimators=30, learning_rate=0.1, score=0.690879801501, total=  13.7s\n",
      "[CV] n_estimators=30, learning_rate=0.1 ..............................\n",
      "[CV]  n_estimators=30, learning_rate=0.1, score=0.69051772854, total=  13.7s\n",
      "[CV] n_estimators=30, learning_rate=0.1 ..............................\n",
      "[CV]  n_estimators=30, learning_rate=0.1, score=0.689540120224, total=  14.0s\n",
      "[CV] n_estimators=30, learning_rate=0.1 ..............................\n",
      "[CV]  n_estimators=30, learning_rate=0.1, score=0.681419191391, total=  13.8s\n",
      "[CV] n_estimators=30, learning_rate=0.1 ..............................\n",
      "[CV]  n_estimators=30, learning_rate=0.1, score=0.69450456213, total=  13.9s\n",
      "[CV] n_estimators=40, learning_rate=0.1 ..............................\n",
      "[CV]  n_estimators=40, learning_rate=0.1, score=0.696308992244, total=  18.3s\n",
      "[CV] n_estimators=40, learning_rate=0.1 ..............................\n",
      "[CV]  n_estimators=40, learning_rate=0.1, score=0.696055763017, total=  18.3s\n",
      "[CV] n_estimators=40, learning_rate=0.1 ..............................\n",
      "[CV]  n_estimators=40, learning_rate=0.1, score=0.693173258264, total=  18.2s\n",
      "[CV] n_estimators=40, learning_rate=0.1 ..............................\n",
      "[CV]  n_estimators=40, learning_rate=0.1, score=0.686342622503, total=  18.6s\n",
      "[CV] n_estimators=40, learning_rate=0.1 ..............................\n",
      "[CV]  n_estimators=40, learning_rate=0.1, score=0.699085768551, total=  19.2s\n",
      "[CV] n_estimators=10, learning_rate=0.2 ..............................\n",
      "[CV]  n_estimators=10, learning_rate=0.2, score=0.678913447625, total=   5.2s\n",
      "[CV] n_estimators=10, learning_rate=0.2 ..............................\n",
      "[CV]  n_estimators=10, learning_rate=0.2, score=0.678588477432, total=   5.0s\n",
      "[CV] n_estimators=10, learning_rate=0.2 ..............................\n",
      "[CV]  n_estimators=10, learning_rate=0.2, score=0.678505228474, total=   5.1s\n",
      "[CV] n_estimators=10, learning_rate=0.2 ..............................\n",
      "[CV]  n_estimators=10, learning_rate=0.2, score=0.67032016124, total=   5.0s\n",
      "[CV] n_estimators=10, learning_rate=0.2 ..............................\n",
      "[CV]  n_estimators=10, learning_rate=0.2, score=0.679940177224, total=   5.0s\n",
      "[CV] n_estimators=20, learning_rate=0.2 ..............................\n",
      "[CV]  n_estimators=20, learning_rate=0.2, score=0.693991288195, total=   9.8s\n",
      "[CV] n_estimators=20, learning_rate=0.2 ..............................\n",
      "[CV]  n_estimators=20, learning_rate=0.2, score=0.691950457723, total=   9.5s\n",
      "[CV] n_estimators=20, learning_rate=0.2 ..............................\n",
      "[CV]  n_estimators=20, learning_rate=0.2, score=0.692820648734, total=   9.7s\n",
      "[CV] n_estimators=20, learning_rate=0.2 ..............................\n",
      "[CV]  n_estimators=20, learning_rate=0.2, score=0.685232725315, total=   9.5s\n",
      "[CV] n_estimators=20, learning_rate=0.2 ..............................\n",
      "[CV]  n_estimators=20, learning_rate=0.2, score=0.695312255372, total=   9.4s\n",
      "[CV] n_estimators=30, learning_rate=0.2 ..............................\n",
      "[CV]  n_estimators=30, learning_rate=0.2, score=0.700092385574, total=  13.7s\n",
      "[CV] n_estimators=30, learning_rate=0.2 ..............................\n",
      "[CV]  n_estimators=30, learning_rate=0.2, score=0.69885050901, total=  14.5s\n",
      "[CV] n_estimators=30, learning_rate=0.2 ..............................\n",
      "[CV]  n_estimators=30, learning_rate=0.2, score=0.699271833825, total=  13.9s\n",
      "[CV] n_estimators=30, learning_rate=0.2 ..............................\n",
      "[CV]  n_estimators=30, learning_rate=0.2, score=0.692487446985, total=  13.6s\n",
      "[CV] n_estimators=30, learning_rate=0.2 ..............................\n",
      "[CV]  n_estimators=30, learning_rate=0.2, score=0.702492767426, total=  13.9s\n",
      "[CV] n_estimators=40, learning_rate=0.2 ..............................\n",
      "[CV]  n_estimators=40, learning_rate=0.2, score=0.703980731221, total=  19.8s\n",
      "[CV] n_estimators=40, learning_rate=0.2 ..............................\n",
      "[CV]  n_estimators=40, learning_rate=0.2, score=0.702946631704, total=  19.2s\n",
      "[CV] n_estimators=40, learning_rate=0.2 ..............................\n",
      "[CV]  n_estimators=40, learning_rate=0.2, score=0.703155794359, total=  17.8s\n",
      "[CV] n_estimators=40, learning_rate=0.2 ..............................\n",
      "[CV]  n_estimators=40, learning_rate=0.2, score=0.696323856539, total=  18.0s\n",
      "[CV] n_estimators=40, learning_rate=0.2 ..............................\n",
      "[CV]  n_estimators=40, learning_rate=0.2, score=0.705850341087, total=  18.9s\n",
      "[CV] n_estimators=10, learning_rate=0.30000000000000004 ..............\n",
      "[CV]  n_estimators=10, learning_rate=0.30000000000000004, score=0.685784064707, total=   4.9s\n",
      "[CV] n_estimators=10, learning_rate=0.30000000000000004 ..............\n",
      "[CV]  n_estimators=10, learning_rate=0.30000000000000004, score=0.686741143377, total=   5.1s\n",
      "[CV] n_estimators=10, learning_rate=0.30000000000000004 ..............\n",
      "[CV]  n_estimators=10, learning_rate=0.30000000000000004, score=0.682571279295, total=   5.0s\n",
      "[CV] n_estimators=10, learning_rate=0.30000000000000004 ..............\n",
      "[CV]  n_estimators=10, learning_rate=0.30000000000000004, score=0.674898820896, total=   4.9s\n",
      "[CV] n_estimators=10, learning_rate=0.30000000000000004 ..............\n",
      "[CV]  n_estimators=10, learning_rate=0.30000000000000004, score=0.689660854081, total=   4.9s\n",
      "[CV] n_estimators=20, learning_rate=0.30000000000000004 ..............\n",
      "[CV]  n_estimators=20, learning_rate=0.30000000000000004, score=0.698685209062, total=   9.3s\n",
      "[CV] n_estimators=20, learning_rate=0.30000000000000004 ..............\n",
      "[CV]  n_estimators=20, learning_rate=0.30000000000000004, score=0.699066241857, total=   9.7s\n",
      "[CV] n_estimators=20, learning_rate=0.30000000000000004 ..............\n",
      "[CV]  n_estimators=20, learning_rate=0.30000000000000004, score=0.695801903655, total=   9.6s\n",
      "[CV] n_estimators=20, learning_rate=0.30000000000000004 ..............\n",
      "[CV]  n_estimators=20, learning_rate=0.30000000000000004, score=0.688560594456, total=   9.3s\n",
      "[CV] n_estimators=20, learning_rate=0.30000000000000004 ..............\n",
      "[CV]  n_estimators=20, learning_rate=0.30000000000000004, score=0.700448596692, total=   9.5s\n",
      "[CV] n_estimators=30, learning_rate=0.30000000000000004 ..............\n",
      "[CV]  n_estimators=30, learning_rate=0.30000000000000004, score=0.704565710651, total=  14.2s\n",
      "[CV] n_estimators=30, learning_rate=0.30000000000000004 ..............\n",
      "[CV]  n_estimators=30, learning_rate=0.30000000000000004, score=0.705879333816, total=  13.9s\n",
      "[CV] n_estimators=30, learning_rate=0.30000000000000004 ..............\n",
      "[CV]  n_estimators=30, learning_rate=0.30000000000000004, score=0.700846968577, total=  13.6s\n",
      "[CV] n_estimators=30, learning_rate=0.30000000000000004 ..............\n",
      "[CV]  n_estimators=30, learning_rate=0.30000000000000004, score=0.69398683383, total=  13.7s\n",
      "[CV] n_estimators=30, learning_rate=0.30000000000000004 ..............\n",
      "[CV]  n_estimators=30, learning_rate=0.30000000000000004, score=0.706039041101, total=  13.9s\n",
      "[CV] n_estimators=40, learning_rate=0.30000000000000004 ..............\n",
      "[CV]  n_estimators=40, learning_rate=0.30000000000000004, score=0.707822722045, total=  18.0s\n",
      "[CV] n_estimators=40, learning_rate=0.30000000000000004 ..............\n",
      "[CV]  n_estimators=40, learning_rate=0.30000000000000004, score=0.708235909867, total=  18.3s\n",
      "[CV] n_estimators=40, learning_rate=0.30000000000000004 ..............\n",
      "[CV]  n_estimators=40, learning_rate=0.30000000000000004, score=0.703770172252, total=  18.7s\n",
      "[CV] n_estimators=40, learning_rate=0.30000000000000004 ..............\n",
      "[CV]  n_estimators=40, learning_rate=0.30000000000000004, score=0.699291272922, total=  19.3s\n",
      "[CV] n_estimators=40, learning_rate=0.30000000000000004 ..............\n",
      "[CV]  n_estimators=40, learning_rate=0.30000000000000004, score=0.709080912861, total=  20.1s\n",
      "[CV] n_estimators=10, learning_rate=0.4 ..............................\n",
      "[CV]  n_estimators=10, learning_rate=0.4, score=0.688221346617, total=   5.6s\n",
      "[CV] n_estimators=10, learning_rate=0.4 ..............................\n",
      "[CV]  n_estimators=10, learning_rate=0.4, score=0.688066313284, total=   5.1s\n",
      "[CV] n_estimators=10, learning_rate=0.4 ..............................\n"
     ]
    },
    {
     "name": "stdout",
     "output_type": "stream",
     "text": [
      "[CV]  n_estimators=10, learning_rate=0.4, score=0.683772431996, total=   5.1s\n",
      "[CV] n_estimators=10, learning_rate=0.4 ..............................\n",
      "[CV]  n_estimators=10, learning_rate=0.4, score=0.678904932875, total=   5.0s\n",
      "[CV] n_estimators=10, learning_rate=0.4 ..............................\n",
      "[CV]  n_estimators=10, learning_rate=0.4, score=0.688713510122, total=   5.1s\n",
      "[CV] n_estimators=20, learning_rate=0.4 ..............................\n",
      "[CV]  n_estimators=20, learning_rate=0.4, score=0.700211370365, total=   9.4s\n",
      "[CV] n_estimators=20, learning_rate=0.4 ..............................\n",
      "[CV]  n_estimators=20, learning_rate=0.4, score=0.700576610082, total=   9.5s\n",
      "[CV] n_estimators=20, learning_rate=0.4 ..............................\n",
      "[CV]  n_estimators=20, learning_rate=0.4, score=0.695802915591, total=   9.4s\n",
      "[CV] n_estimators=20, learning_rate=0.4 ..............................\n",
      "[CV]  n_estimators=20, learning_rate=0.4, score=0.689421185417, total=   9.3s\n",
      "[CV] n_estimators=20, learning_rate=0.4 ..............................\n",
      "[CV]  n_estimators=20, learning_rate=0.4, score=0.702169668951, total=   9.3s\n",
      "[CV] n_estimators=30, learning_rate=0.4 ..............................\n",
      "[CV]  n_estimators=30, learning_rate=0.4, score=0.705223415364, total=  14.2s\n",
      "[CV] n_estimators=30, learning_rate=0.4 ..............................\n",
      "[CV]  n_estimators=30, learning_rate=0.4, score=0.705692186711, total=  14.7s\n",
      "[CV] n_estimators=30, learning_rate=0.4 ..............................\n",
      "[CV]  n_estimators=30, learning_rate=0.4, score=0.700556977253, total=  13.9s\n",
      "[CV] n_estimators=30, learning_rate=0.4 ..............................\n",
      "[CV]  n_estimators=30, learning_rate=0.4, score=0.695578199993, total=  13.8s\n",
      "[CV] n_estimators=30, learning_rate=0.4 ..............................\n",
      "[CV]  n_estimators=30, learning_rate=0.4, score=0.707101945289, total=  14.1s\n",
      "[CV] n_estimators=40, learning_rate=0.4 ..............................\n",
      "[CV]  n_estimators=40, learning_rate=0.4, score=0.708912780527, total=  18.3s\n",
      "[CV] n_estimators=40, learning_rate=0.4 ..............................\n",
      "[CV]  n_estimators=40, learning_rate=0.4, score=0.709012517398, total=  18.7s\n",
      "[CV] n_estimators=40, learning_rate=0.4 ..............................\n",
      "[CV]  n_estimators=40, learning_rate=0.4, score=0.705415029957, total=  18.0s\n",
      "[CV] n_estimators=40, learning_rate=0.4 ..............................\n",
      "[CV]  n_estimators=40, learning_rate=0.4, score=0.698980465261, total=  19.1s\n",
      "[CV] n_estimators=40, learning_rate=0.4 ..............................\n",
      "[CV]  n_estimators=40, learning_rate=0.4, score=0.710635432473, total=  18.6s\n",
      "[CV] n_estimators=10, learning_rate=0.5 ..............................\n",
      "[CV]  n_estimators=10, learning_rate=0.5, score=0.687718602781, total=   5.1s\n",
      "[CV] n_estimators=10, learning_rate=0.5 ..............................\n",
      "[CV]  n_estimators=10, learning_rate=0.5, score=0.689613163014, total=   5.0s\n",
      "[CV] n_estimators=10, learning_rate=0.5 ..............................\n",
      "[CV]  n_estimators=10, learning_rate=0.5, score=0.684880746147, total=   5.1s\n",
      "[CV] n_estimators=10, learning_rate=0.5 ..............................\n",
      "[CV]  n_estimators=10, learning_rate=0.5, score=0.679100636594, total=   5.0s\n",
      "[CV] n_estimators=10, learning_rate=0.5 ..............................\n",
      "[CV]  n_estimators=10, learning_rate=0.5, score=0.691169506459, total=   5.0s\n",
      "[CV] n_estimators=20, learning_rate=0.5 ..............................\n",
      "[CV]  n_estimators=20, learning_rate=0.5, score=0.700290979503, total=   9.3s\n",
      "[CV] n_estimators=20, learning_rate=0.5 ..............................\n",
      "[CV]  n_estimators=20, learning_rate=0.5, score=0.701651477354, total=   9.4s\n",
      "[CV] n_estimators=20, learning_rate=0.5 ..............................\n",
      "[CV]  n_estimators=20, learning_rate=0.5, score=0.696923526626, total=   9.6s\n",
      "[CV] n_estimators=20, learning_rate=0.5 ..............................\n",
      "[CV]  n_estimators=20, learning_rate=0.5, score=0.691393617835, total=   9.4s\n",
      "[CV] n_estimators=20, learning_rate=0.5 ..............................\n",
      "[CV]  n_estimators=20, learning_rate=0.5, score=0.701754634812, total=   9.4s\n",
      "[CV] n_estimators=30, learning_rate=0.5 ..............................\n",
      "[CV]  n_estimators=30, learning_rate=0.5, score=0.705169779541, total=  13.8s\n",
      "[CV] n_estimators=30, learning_rate=0.5 ..............................\n",
      "[CV]  n_estimators=30, learning_rate=0.5, score=0.705567782076, total=  14.1s\n",
      "[CV] n_estimators=30, learning_rate=0.5 ..............................\n",
      "[CV]  n_estimators=30, learning_rate=0.5, score=0.701451762212, total=  14.3s\n",
      "[CV] n_estimators=30, learning_rate=0.5 ..............................\n",
      "[CV]  n_estimators=30, learning_rate=0.5, score=0.696653052647, total=  13.7s\n",
      "[CV] n_estimators=30, learning_rate=0.5 ..............................\n",
      "[CV]  n_estimators=30, learning_rate=0.5, score=0.706810021496, total=  13.9s\n",
      "[CV] n_estimators=40, learning_rate=0.5 ..............................\n",
      "[CV]  n_estimators=40, learning_rate=0.5, score=0.708116990972, total=  17.9s\n",
      "[CV] n_estimators=40, learning_rate=0.5 ..............................\n",
      "[CV]  n_estimators=40, learning_rate=0.5, score=0.709812875772, total=  18.2s\n",
      "[CV] n_estimators=40, learning_rate=0.5 ..............................\n",
      "[CV]  n_estimators=40, learning_rate=0.5, score=0.705069403319, total=  18.1s\n",
      "[CV] n_estimators=40, learning_rate=0.5 ..............................\n",
      "[CV]  n_estimators=40, learning_rate=0.5, score=0.699834317499, total=  18.1s\n",
      "[CV] n_estimators=40, learning_rate=0.5 ..............................\n",
      "[CV]  n_estimators=40, learning_rate=0.5, score=0.710228340254, total=  17.6s\n",
      "[CV] n_estimators=10, learning_rate=0.6 ..............................\n",
      "[CV]  n_estimators=10, learning_rate=0.6, score=0.686840831806, total=   5.6s\n",
      "[CV] n_estimators=10, learning_rate=0.6 ..............................\n",
      "[CV]  n_estimators=10, learning_rate=0.6, score=0.688685810449, total=   6.1s\n",
      "[CV] n_estimators=10, learning_rate=0.6 ..............................\n",
      "[CV]  n_estimators=10, learning_rate=0.6, score=0.684526420035, total=   6.1s\n",
      "[CV] n_estimators=10, learning_rate=0.6 ..............................\n",
      "[CV]  n_estimators=10, learning_rate=0.6, score=0.681106842088, total=   6.0s\n",
      "[CV] n_estimators=10, learning_rate=0.6 ..............................\n",
      "[CV]  n_estimators=10, learning_rate=0.6, score=0.689329834865, total=   6.0s\n",
      "[CV] n_estimators=20, learning_rate=0.6 ..............................\n",
      "[CV]  n_estimators=20, learning_rate=0.6, score=0.699198464015, total=  11.1s\n",
      "[CV] n_estimators=20, learning_rate=0.6 ..............................\n",
      "[CV]  n_estimators=20, learning_rate=0.6, score=0.6994663522, total=  11.0s\n",
      "[CV] n_estimators=20, learning_rate=0.6 ..............................\n",
      "[CV]  n_estimators=20, learning_rate=0.6, score=0.697624761515, total=  10.3s\n",
      "[CV] n_estimators=20, learning_rate=0.6 ..............................\n",
      "[CV]  n_estimators=20, learning_rate=0.6, score=0.695437545063, total=   9.7s\n",
      "[CV] n_estimators=20, learning_rate=0.6 ..............................\n",
      "[CV]  n_estimators=20, learning_rate=0.6, score=0.702967228303, total=  10.2s\n",
      "[CV] n_estimators=30, learning_rate=0.6 ..............................\n",
      "[CV]  n_estimators=30, learning_rate=0.6, score=0.704821387626, total=  14.6s\n",
      "[CV] n_estimators=30, learning_rate=0.6 ..............................\n",
      "[CV]  n_estimators=30, learning_rate=0.6, score=0.703629289693, total=  14.2s\n",
      "[CV] n_estimators=30, learning_rate=0.6 ..............................\n",
      "[CV]  n_estimators=30, learning_rate=0.6, score=0.703209723686, total=  14.5s\n",
      "[CV] n_estimators=30, learning_rate=0.6 ..............................\n",
      "[CV]  n_estimators=30, learning_rate=0.6, score=0.69983159976, total=  14.0s\n",
      "[CV] n_estimators=30, learning_rate=0.6 ..............................\n",
      "[CV]  n_estimators=30, learning_rate=0.6, score=0.707605050023, total=  14.5s\n",
      "[CV] n_estimators=40, learning_rate=0.6 ..............................\n",
      "[CV]  n_estimators=40, learning_rate=0.6, score=0.708554301116, total=  18.5s\n",
      "[CV] n_estimators=40, learning_rate=0.6 ..............................\n",
      "[CV]  n_estimators=40, learning_rate=0.6, score=0.705056193699, total=  21.9s\n",
      "[CV] n_estimators=40, learning_rate=0.6 ..............................\n",
      "[CV]  n_estimators=40, learning_rate=0.6, score=0.704729519818, total=  18.7s\n",
      "[CV] n_estimators=40, learning_rate=0.6 ..............................\n"
     ]
    },
    {
     "name": "stdout",
     "output_type": "stream",
     "text": [
      "[CV]  n_estimators=40, learning_rate=0.6, score=0.702305346478, total=  18.5s\n",
      "[CV] n_estimators=40, learning_rate=0.6 ..............................\n",
      "[CV]  n_estimators=40, learning_rate=0.6, score=0.711246589673, total=  20.3s\n",
      "[CV] n_estimators=10, learning_rate=0.7000000000000001 ...............\n",
      "[CV]  n_estimators=10, learning_rate=0.7000000000000001, score=0.688443779866, total=   5.5s\n",
      "[CV] n_estimators=10, learning_rate=0.7000000000000001 ...............\n",
      "[CV]  n_estimators=10, learning_rate=0.7000000000000001, score=0.688445400028, total=   5.7s\n",
      "[CV] n_estimators=10, learning_rate=0.7000000000000001 ...............\n",
      "[CV]  n_estimators=10, learning_rate=0.7000000000000001, score=0.684871177785, total=   5.3s\n",
      "[CV] n_estimators=10, learning_rate=0.7000000000000001 ...............\n",
      "[CV]  n_estimators=10, learning_rate=0.7000000000000001, score=0.681603319554, total=   5.4s\n",
      "[CV] n_estimators=10, learning_rate=0.7000000000000001 ...............\n",
      "[CV]  n_estimators=10, learning_rate=0.7000000000000001, score=0.688838087075, total=   5.5s\n",
      "[CV] n_estimators=20, learning_rate=0.7000000000000001 ...............\n",
      "[CV]  n_estimators=20, learning_rate=0.7000000000000001, score=0.701200792177, total=   9.7s\n",
      "[CV] n_estimators=20, learning_rate=0.7000000000000001 ...............\n",
      "[CV]  n_estimators=20, learning_rate=0.7000000000000001, score=0.700108207461, total=  11.3s\n",
      "[CV] n_estimators=20, learning_rate=0.7000000000000001 ...............\n",
      "[CV]  n_estimators=20, learning_rate=0.7000000000000001, score=0.697816716858, total=  10.1s\n",
      "[CV] n_estimators=20, learning_rate=0.7000000000000001 ...............\n",
      "[CV]  n_estimators=20, learning_rate=0.7000000000000001, score=0.693551211474, total=   9.7s\n",
      "[CV] n_estimators=20, learning_rate=0.7000000000000001 ...............\n",
      "[CV]  n_estimators=20, learning_rate=0.7000000000000001, score=0.698771903881, total=   9.6s\n",
      "[CV] n_estimators=30, learning_rate=0.7000000000000001 ...............\n",
      "[CV]  n_estimators=30, learning_rate=0.7000000000000001, score=0.706397292726, total=  13.8s\n",
      "[CV] n_estimators=30, learning_rate=0.7000000000000001 ...............\n",
      "[CV]  n_estimators=30, learning_rate=0.7000000000000001, score=0.704849087413, total=  14.7s\n",
      "[CV] n_estimators=30, learning_rate=0.7000000000000001 ...............\n",
      "[CV]  n_estimators=30, learning_rate=0.7000000000000001, score=0.701155662182, total=  13.8s\n",
      "[CV] n_estimators=30, learning_rate=0.7000000000000001 ...............\n",
      "[CV]  n_estimators=30, learning_rate=0.7000000000000001, score=0.699023821944, total=  14.3s\n",
      "[CV] n_estimators=30, learning_rate=0.7000000000000001 ...............\n",
      "[CV]  n_estimators=30, learning_rate=0.7000000000000001, score=0.704244003096, total=  14.2s\n",
      "[CV] n_estimators=40, learning_rate=0.7000000000000001 ...............\n",
      "[CV]  n_estimators=40, learning_rate=0.7000000000000001, score=0.708373419876, total=  18.2s\n",
      "[CV] n_estimators=40, learning_rate=0.7000000000000001 ...............\n",
      "[CV]  n_estimators=40, learning_rate=0.7000000000000001, score=0.705723716815, total=  18.5s\n",
      "[CV] n_estimators=40, learning_rate=0.7000000000000001 ...............\n",
      "[CV]  n_estimators=40, learning_rate=0.7000000000000001, score=0.703591229035, total=  18.4s\n",
      "[CV] n_estimators=40, learning_rate=0.7000000000000001 ...............\n",
      "[CV]  n_estimators=40, learning_rate=0.7000000000000001, score=0.703113431562, total=  18.5s\n",
      "[CV] n_estimators=40, learning_rate=0.7000000000000001 ...............\n",
      "[CV]  n_estimators=40, learning_rate=0.7000000000000001, score=0.706246176958, total=  18.6s\n",
      "[CV] n_estimators=10, learning_rate=0.8 ..............................\n",
      "[CV]  n_estimators=10, learning_rate=0.8, score=0.687462867558, total=   5.3s\n",
      "[CV] n_estimators=10, learning_rate=0.8 ..............................\n",
      "[CV]  n_estimators=10, learning_rate=0.8, score=0.687031284938, total=   5.3s\n",
      "[CV] n_estimators=10, learning_rate=0.8 ..............................\n",
      "[CV]  n_estimators=10, learning_rate=0.8, score=0.683747292527, total=   5.3s\n",
      "[CV] n_estimators=10, learning_rate=0.8 ..............................\n",
      "[CV]  n_estimators=10, learning_rate=0.8, score=0.678726309061, total=   5.1s\n",
      "[CV] n_estimators=10, learning_rate=0.8 ..............................\n",
      "[CV]  n_estimators=10, learning_rate=0.8, score=0.687252578093, total=   5.2s\n",
      "[CV] n_estimators=20, learning_rate=0.8 ..............................\n",
      "[CV]  n_estimators=20, learning_rate=0.8, score=0.700031346959, total=   9.8s\n",
      "[CV] n_estimators=20, learning_rate=0.8 ..............................\n",
      "[CV]  n_estimators=20, learning_rate=0.8, score=0.697767460009, total=   9.5s\n",
      "[CV] n_estimators=20, learning_rate=0.8 ..............................\n",
      "[CV]  n_estimators=20, learning_rate=0.8, score=0.693929238387, total=   9.9s\n",
      "[CV] n_estimators=20, learning_rate=0.8 ..............................\n",
      "[CV]  n_estimators=20, learning_rate=0.8, score=0.693604882853, total=   9.5s\n",
      "[CV] n_estimators=20, learning_rate=0.8 ..............................\n",
      "[CV]  n_estimators=20, learning_rate=0.8, score=0.697899642831, total=   9.6s\n",
      "[CV] n_estimators=30, learning_rate=0.8 ..............................\n",
      "[CV]  n_estimators=30, learning_rate=0.8, score=0.703050552926, total=  14.4s\n",
      "[CV] n_estimators=30, learning_rate=0.8 ..............................\n",
      "[CV]  n_estimators=30, learning_rate=0.8, score=0.700613192204, total=  14.4s\n",
      "[CV] n_estimators=30, learning_rate=0.8 ..............................\n",
      "[CV]  n_estimators=30, learning_rate=0.8, score=0.698997037442, total=  13.5s\n",
      "[CV] n_estimators=30, learning_rate=0.8 ..............................\n",
      "[CV]  n_estimators=30, learning_rate=0.8, score=0.698041843925, total=  13.8s\n",
      "[CV] n_estimators=30, learning_rate=0.8 ..............................\n",
      "[CV]  n_estimators=30, learning_rate=0.8, score=0.701091659232, total=  14.1s\n",
      "[CV] n_estimators=40, learning_rate=0.8 ..............................\n",
      "[CV]  n_estimators=40, learning_rate=0.8, score=0.704642163806, total=  18.5s\n",
      "[CV] n_estimators=40, learning_rate=0.8 ..............................\n",
      "[CV]  n_estimators=40, learning_rate=0.8, score=0.703703047047, total=  18.1s\n",
      "[CV] n_estimators=40, learning_rate=0.8 ..............................\n",
      "[CV]  n_estimators=40, learning_rate=0.8, score=0.70168804673, total=  18.5s\n",
      "[CV] n_estimators=40, learning_rate=0.8 ..............................\n",
      "[CV]  n_estimators=40, learning_rate=0.8, score=0.700312226395, total=  18.6s\n",
      "[CV] n_estimators=40, learning_rate=0.8 ..............................\n",
      "[CV]  n_estimators=40, learning_rate=0.8, score=0.704838508738, total=  18.2s\n",
      "[CV] n_estimators=10, learning_rate=0.9 ..............................\n",
      "[CV]  n_estimators=10, learning_rate=0.9, score=0.687995466145, total=   5.2s\n",
      "[CV] n_estimators=10, learning_rate=0.9 ..............................\n",
      "[CV]  n_estimators=10, learning_rate=0.9, score=0.684829716893, total=   5.2s\n",
      "[CV] n_estimators=10, learning_rate=0.9 ..............................\n",
      "[CV]  n_estimators=10, learning_rate=0.9, score=0.682453142335, total=   5.1s\n",
      "[CV] n_estimators=10, learning_rate=0.9 ..............................\n",
      "[CV]  n_estimators=10, learning_rate=0.9, score=0.679116561593, total=   5.3s\n",
      "[CV] n_estimators=10, learning_rate=0.9 ..............................\n",
      "[CV]  n_estimators=10, learning_rate=0.9, score=0.68736882662, total=   5.1s\n",
      "[CV] n_estimators=20, learning_rate=0.9 ..............................\n",
      "[CV]  n_estimators=20, learning_rate=0.9, score=0.696575227994, total=   9.5s\n",
      "[CV] n_estimators=20, learning_rate=0.9 ..............................\n",
      "[CV]  n_estimators=20, learning_rate=0.9, score=0.694808126239, total=   9.3s\n",
      "[CV] n_estimators=20, learning_rate=0.9 ..............................\n",
      "[CV]  n_estimators=20, learning_rate=0.9, score=0.691853375216, total=   9.7s\n",
      "[CV] n_estimators=20, learning_rate=0.9 ..............................\n",
      "[CV]  n_estimators=20, learning_rate=0.9, score=0.6894015573, total=   9.6s\n",
      "[CV] n_estimators=20, learning_rate=0.9 ..............................\n",
      "[CV]  n_estimators=20, learning_rate=0.9, score=0.69679208917, total=  10.5s\n",
      "[CV] n_estimators=30, learning_rate=0.9 ..............................\n",
      "[CV]  n_estimators=30, learning_rate=0.9, score=0.700925819226, total=  13.8s\n",
      "[CV] n_estimators=30, learning_rate=0.9 ..............................\n",
      "[CV]  n_estimators=30, learning_rate=0.9, score=0.699696949843, total=  14.3s\n",
      "[CV] n_estimators=30, learning_rate=0.9 ..............................\n"
     ]
    },
    {
     "name": "stdout",
     "output_type": "stream",
     "text": [
      "[CV]  n_estimators=30, learning_rate=0.9, score=0.694034384415, total=  14.4s\n",
      "[CV] n_estimators=30, learning_rate=0.9 ..............................\n",
      "[CV]  n_estimators=30, learning_rate=0.9, score=0.694204909894, total=  14.2s\n",
      "[CV] n_estimators=30, learning_rate=0.9 ..............................\n",
      "[CV]  n_estimators=30, learning_rate=0.9, score=0.701281126965, total=  16.6s\n",
      "[CV] n_estimators=40, learning_rate=0.9 ..............................\n",
      "[CV]  n_estimators=40, learning_rate=0.9, score=0.702337787961, total=  18.2s\n",
      "[CV] n_estimators=40, learning_rate=0.9 ..............................\n",
      "[CV]  n_estimators=40, learning_rate=0.9, score=0.700667324001, total=  18.4s\n",
      "[CV] n_estimators=40, learning_rate=0.9 ..............................\n",
      "[CV]  n_estimators=40, learning_rate=0.9, score=0.697178285606, total=  19.6s\n",
      "[CV] n_estimators=40, learning_rate=0.9 ..............................\n",
      "[CV]  n_estimators=40, learning_rate=0.9, score=0.697123412267, total=  19.0s\n",
      "[CV] n_estimators=40, learning_rate=0.9 ..............................\n",
      "[CV]  n_estimators=40, learning_rate=0.9, score=0.703699790985, total=  19.4s\n"
     ]
    },
    {
     "name": "stderr",
     "output_type": "stream",
     "text": [
      "[Parallel(n_jobs=1)]: Done 180 out of 180 | elapsed: 36.7min finished\n"
     ]
    },
    {
     "data": {
      "text/plain": [
       "GridSearchCV(cv=KFold(n_splits=5, random_state=168, shuffle=True),\n",
       "       error_score='raise',\n",
       "       estimator=GradientBoostingClassifier(criterion='friedman_mse', init=None,\n",
       "              learning_rate=0.1, loss='deviance', max_depth=3,\n",
       "              max_features=None, max_leaf_nodes=None,\n",
       "              min_impurity_decrease=0.0, min_impurity_split=None,\n",
       "              min_samples_leaf=1, min_samples_split=2,\n",
       "              min_weight_fraction_leaf=0.0, n_estimators=100,\n",
       "              presort='auto', random_state=168, subsample=1.0, verbose=0,\n",
       "              warm_start=False),\n",
       "       fit_params=None, iid=True, n_jobs=1,\n",
       "       param_grid={'n_estimators': [10, 20, 30, 40], 'learning_rate': array([0.1, 0.2, 0.3, 0.4, 0.5, 0.6, 0.7, 0.8, 0.9])},\n",
       "       pre_dispatch='2*n_jobs', refit=True, return_train_score='warn',\n",
       "       scoring='roc_auc', verbose=10)"
      ]
     },
     "execution_count": 82,
     "metadata": {},
     "output_type": "execute_result"
    }
   ],
   "source": [
    "model_parameters = {'learning_rate': np.arange(0.1, 1, 0.1), 'n_estimators': [10, 20, 30, 40]}\n",
    "model = GradientBoostingClassifier(random_state=random_state_value)\n",
    "validator = KFold(n_splits=5, shuffle=True, random_state=random_state_value)\n",
    "grid = GridSearchCV(model, param_grid = model_parameters, scoring='roc_auc', cv=validator, verbose=10)\n",
    "grid.fit(X, np.ravel(y))"
   ]
  },
  {
   "cell_type": "markdown",
   "metadata": {},
   "source": [
    "На графике ниже приведены результаты оценки моделей."
   ]
  },
  {
   "cell_type": "code",
   "execution_count": 83,
   "metadata": {},
   "outputs": [
    {
     "data": {
      "image/png": "[encoded data removed]",
      "text/plain": [
       "<Figure size 432x288 with 1 Axes>"
      ]
     },
     "metadata": {},
     "output_type": "display_data"
    }
   ],
   "source": [
    "import matplotlib.pyplot as plt\n",
    "\n",
    "results = grid.cv_results_\n",
    "\n",
    "plt.figure()\n",
    "plt.plot(model_parameters['learning_rate'], [x[1] for x in zip(results['param_n_estimators'].data, results['mean_test_score']) if x[0] == 10], 'ro')\n",
    "plt.plot(model_parameters['learning_rate'], [x[1] for x in zip(results['param_n_estimators'].data, results['mean_test_score']) if x[0] == 20], 'go')\n",
    "plt.plot(model_parameters['learning_rate'], [x[1] for x in zip(results['param_n_estimators'].data, results['mean_test_score']) if x[0] == 30], 'bo')\n",
    "plt.plot(model_parameters['learning_rate'], [x[1] for x in zip(results['param_n_estimators'].data, results['mean_test_score']) if x[0] == 40], 'yo')\n",
    "plt.legend(['10 trees','20 trees','30 trees','40 trees'], loc = 'best')\n",
    "plt.title('Gradient boosting: Mean test score')\n",
    "plt.show()"
   ]
  },
  {
   "cell_type": "code",
   "execution_count": 93,
   "metadata": {},
   "outputs": [
    {
     "data": {
      "text/plain": [
       "[(0.706612385563068, 0.5, 40),\n",
       " (0.7065912451229335, 0.4, 40),\n",
       " (0.7063783901566717, 0.6, 40),\n",
       " (0.7056401979893356, 0.30000000000000004, 40),\n",
       " (0.7054095948492675, 0.7000000000000001, 40),\n",
       " (0.7038194101576559, 0.6, 30),\n",
       " (0.7031339734722124, 0.7000000000000001, 30),\n",
       " (0.7031304795942992, 0.5, 30),\n",
       " (0.7030367985433195, 0.8, 40),\n",
       " (0.7028305449217497, 0.4, 30),\n",
       " (0.7024514709819965, 0.2, 40),\n",
       " (0.702263577594961, 0.30000000000000004, 30),\n",
       " (0.7003588571456358, 0.8, 30),\n",
       " (0.7002013201639204, 0.9, 40),\n",
       " (0.698938870219428, 0.6, 20),\n",
       " (0.6986389885639597, 0.2, 30),\n",
       " (0.6984028472258669, 0.5, 20),\n",
       " (0.6982897663702157, 0.7000000000000001, 20),\n",
       " (0.6980286380686226, 0.9, 30),\n",
       " (0.6976363500809724, 0.4, 20),\n",
       " (0.6966465142076949, 0.8, 20),\n",
       " (0.696512509144204, 0.30000000000000004, 20),\n",
       " (0.6941932809155086, 0.1, 40),\n",
       " (0.6938860751835174, 0.9, 20),\n",
       " (0.6918614750681118, 0.2, 20),\n",
       " (0.6893722807571017, 0.1, 30),\n",
       " (0.6864965309992265, 0.5, 10),\n",
       " (0.6864403528616692, 0.7000000000000001, 10),\n",
       " (0.6860979478485626, 0.6, 10),\n",
       " (0.6855357069786033, 0.4, 10),\n",
       " (0.6848440664353247, 0.8, 10),\n",
       " (0.6843527427170114, 0.9, 10),\n",
       " (0.6839312324715338, 0.30000000000000004, 10),\n",
       " (0.6824863144289266, 0.1, 20),\n",
       " (0.6772534983992662, 0.2, 10),\n",
       " (0.6649907974660237, 0.1, 10)]"
      ]
     },
     "execution_count": 93,
     "metadata": {},
     "output_type": "execute_result"
    }
   ],
   "source": [
    "sorted(zip(results['mean_test_score'],results['param_learning_rate'].data,results['param_n_estimators'].data), key=lambda x:x[0], reverse =True)"
   ]
  },
  {
   "cell_type": "markdown",
   "metadata": {},
   "source": [
    "Как видим лучшее качество модели достигается при leraning_rate=0.5 и количестве деревьев 40. среднее значение AUC-ROC по результатм крос-валидации 0.7066"
   ]
  },
  {
   "cell_type": "markdown",
   "metadata": {},
   "source": [
    "Рассмотрим время, затраченное на построение каждой из модели"
   ]
  },
  {
   "cell_type": "code",
   "execution_count": 85,
   "metadata": {},
   "outputs": [
    {
     "data": {
      "image/png": "[encoded data removed]",
      "text/plain": [
       "<Figure size 432x288 with 1 Axes>"
      ]
     },
     "metadata": {},
     "output_type": "display_data"
    }
   ],
   "source": [
    "plt.figure()\n",
    "plt.title('Gradient boosting: Mean fit time')\n",
    "plt.plot(model_parameters['learning_rate'], [x[1] for x in zip(results['param_n_estimators'].data, results['mean_fit_time']) if x[0] == 10], 'ro')\n",
    "plt.plot(model_parameters['learning_rate'], [x[1] for x in zip(results['param_n_estimators'].data, results['mean_fit_time']) if x[0] == 20], 'go')\n",
    "plt.plot(model_parameters['learning_rate'], [x[1] for x in zip(results['param_n_estimators'].data, results['mean_fit_time']) if x[0] == 30], 'bo')\n",
    "plt.plot(model_parameters['learning_rate'], [x[1] for x in zip(results['param_n_estimators'].data, results['mean_fit_time']) if x[0] == 40], 'yo')\n",
    "t1 = sum([x[1] for x in zip(results['param_n_estimators'].data, results['mean_fit_time']) if x[0] == 10])\n",
    "t2 = sum([x[1] for x in zip(results['param_n_estimators'].data, results['mean_fit_time']) if x[0] == 20])\n",
    "t3 = sum([x[1] for x in zip(results['param_n_estimators'].data, results['mean_fit_time']) if x[0] == 30])\n",
    "t4 = sum([x[1] for x in zip(results['param_n_estimators'].data, results['mean_fit_time']) if x[0] == 40])\n",
    "plt.legend(['10 trees (%d s)'%t1,'20 trees (%d s)'%t2,'30 trees (%d s)'%t3,'40 trees (%d s)'%t4], loc = 'best')\n",
    "plt.show()"
   ]
  },
  {
   "cell_type": "markdown",
   "metadata": {},
   "source": [
    "Суммарно на кросс-валидацию с 40 деревьями было затрачено 168 секунд"
   ]
  },
  {
   "cell_type": "markdown",
   "metadata": {},
   "source": [
    "Качество прогнозирования удовлетворительное. Дальнейшее увеличение количества деревьев незначительно ведет к повышению качества (при переходе от 10 к 20 деревьям, улучшение метрики качества на 0,012, от 20 к 30 деревьям - улучшение на 0,004, при переходе от 30 к 40 уже только на 0,003). При этом каждые новые 10 деревьев увеличивают время кроссвалидации на 40 секунд. \n",
    "Для уменьшения времени построения модели можно:\n",
    "* сократить глубину деревьев (по умолчанию, max_depth =3);\n",
    "* вести кросс-валидацию не на всей выборке, а на ее части.\n"
   ]
  },
  {
   "cell_type": "markdown",
   "metadata": {},
   "source": [
    "## Логистическая регрессия"
   ]
  },
  {
   "cell_type": "markdown",
   "metadata": {},
   "source": [
    "Теперь попробуем предсказать итог матча с помощью логистической регрессии. \n",
    "Так как выбранный метод чувствителен к масштабу данных, необходимо нормализовать данные."
   ]
  },
  {
   "cell_type": "code",
   "execution_count": 96,
   "metadata": {},
   "outputs": [],
   "source": [
    "from sklearn.preprocessing import StandardScaler\n",
    "scaler = StandardScaler()\n",
    "X_s = scaler.fit_transform(X)"
   ]
  },
  {
   "cell_type": "markdown",
   "metadata": {},
   "source": [
    "Для борьбы с эффектом мульколлинеарности воспользуемся l2-регуляризацией. Проведем перебор значений параметра регуляризатора `C` для нахождения наилучшего с точки зрения критерия качества на кросс-валидации по пяти блокам. Критерий качества, по прежнему, площадь под ROC-кривой."
   ]
  },
  {
   "cell_type": "code",
   "execution_count": 99,
   "metadata": {},
   "outputs": [
    {
     "name": "stdout",
     "output_type": "stream",
     "text": [
      "Fitting 5 folds for each of 10 candidates, totalling 50 fits\n",
      "[CV] C=1e-05 .........................................................\n",
      "[CV] .................... C=1e-05, score=0.695443320967, total=   0.8s\n",
      "[CV] C=1e-05 .........................................................\n"
     ]
    },
    {
     "name": "stderr",
     "output_type": "stream",
     "text": [
      "[Parallel(n_jobs=1)]: Done   1 out of   1 | elapsed:    0.9s remaining:    0.0s\n"
     ]
    },
    {
     "name": "stdout",
     "output_type": "stream",
     "text": [
      "[CV] .................... C=1e-05, score=0.698573712405, total=   0.9s\n",
      "[CV] C=1e-05 .........................................................\n"
     ]
    },
    {
     "name": "stderr",
     "output_type": "stream",
     "text": [
      "[Parallel(n_jobs=1)]: Done   2 out of   2 | elapsed:    1.9s remaining:    0.0s\n"
     ]
    },
    {
     "name": "stdout",
     "output_type": "stream",
     "text": [
      "[CV] .................... C=1e-05, score=0.693624332921, total=   0.8s\n",
      "[CV] C=1e-05 .........................................................\n"
     ]
    },
    {
     "name": "stderr",
     "output_type": "stream",
     "text": [
      "[Parallel(n_jobs=1)]: Done   3 out of   3 | elapsed:    2.9s remaining:    0.0s\n"
     ]
    },
    {
     "name": "stdout",
     "output_type": "stream",
     "text": [
      "[CV] .................... C=1e-05, score=0.689327071111, total=   0.8s\n",
      "[CV] C=1e-05 .........................................................\n"
     ]
    },
    {
     "name": "stderr",
     "output_type": "stream",
     "text": [
      "[Parallel(n_jobs=1)]: Done   4 out of   4 | elapsed:    3.9s remaining:    0.0s\n"
     ]
    },
    {
     "name": "stdout",
     "output_type": "stream",
     "text": [
      "[CV] .................... C=1e-05, score=0.698537728434, total=   0.8s\n",
      "[CV] C=0.0001 ........................................................\n"
     ]
    },
    {
     "name": "stderr",
     "output_type": "stream",
     "text": [
      "[Parallel(n_jobs=1)]: Done   5 out of   5 | elapsed:    4.9s remaining:    0.0s\n"
     ]
    },
    {
     "name": "stdout",
     "output_type": "stream",
     "text": [
      "[CV] .................... C=0.0001, score=0.71368028451, total=   1.3s\n",
      "[CV] C=0.0001 ........................................................\n"
     ]
    },
    {
     "name": "stderr",
     "output_type": "stream",
     "text": [
      "[Parallel(n_jobs=1)]: Done   6 out of   6 | elapsed:    6.4s remaining:    0.0s\n"
     ]
    },
    {
     "name": "stdout",
     "output_type": "stream",
     "text": [
      "[CV] ................... C=0.0001, score=0.712331471225, total=   1.4s\n",
      "[CV] C=0.0001 ........................................................\n"
     ]
    },
    {
     "name": "stderr",
     "output_type": "stream",
     "text": [
      "[Parallel(n_jobs=1)]: Done   7 out of   7 | elapsed:    8.0s remaining:    0.0s\n"
     ]
    },
    {
     "name": "stdout",
     "output_type": "stream",
     "text": [
      "[CV] ................... C=0.0001, score=0.709386308423, total=   1.4s\n",
      "[CV] C=0.0001 ........................................................\n"
     ]
    },
    {
     "name": "stderr",
     "output_type": "stream",
     "text": [
      "[Parallel(n_jobs=1)]: Done   8 out of   8 | elapsed:    9.6s remaining:    0.0s\n"
     ]
    },
    {
     "name": "stdout",
     "output_type": "stream",
     "text": [
      "[CV] ................... C=0.0001, score=0.706758820598, total=   1.3s\n",
      "[CV] C=0.0001 ........................................................\n"
     ]
    },
    {
     "name": "stderr",
     "output_type": "stream",
     "text": [
      "[Parallel(n_jobs=1)]: Done   9 out of   9 | elapsed:   11.1s remaining:    0.0s\n"
     ]
    },
    {
     "name": "stdout",
     "output_type": "stream",
     "text": [
      "[CV] .................... C=0.0001, score=0.71436857952, total=   1.2s\n",
      "[CV] C=0.001 .........................................................\n",
      "[CV] .................... C=0.001, score=0.719626018571, total=   2.4s\n",
      "[CV] C=0.001 .........................................................\n",
      "[CV] .................... C=0.001, score=0.716160869576, total=   2.2s\n",
      "[CV] C=0.001 .........................................................\n",
      "[CV] .................... C=0.001, score=0.714327610121, total=   1.9s\n",
      "[CV] C=0.001 .........................................................\n",
      "[CV] .................... C=0.001, score=0.712233279978, total=   2.6s\n",
      "[CV] C=0.001 .........................................................\n",
      "[CV] .................... C=0.001, score=0.719099559959, total=   2.3s\n",
      "[CV] C=0.01 ..........................................................\n",
      "[CV] ..................... C=0.01, score=0.720039473509, total=   3.4s\n",
      "[CV] C=0.01 ..........................................................\n",
      "[CV] ..................... C=0.01, score=0.716355451728, total=   3.2s\n",
      "[CV] C=0.01 ..........................................................\n",
      "[CV] ..................... C=0.01, score=0.714492974316, total=   3.6s\n",
      "[CV] C=0.01 ..........................................................\n",
      "[CV] ..................... C=0.01, score=0.712210319584, total=   2.9s\n",
      "[CV] C=0.01 ..........................................................\n",
      "[CV] ..................... C=0.01, score=0.719237198724, total=   3.1s\n",
      "[CV] C=0.1 ...........................................................\n",
      "[CV] ...................... C=0.1, score=0.720057064407, total=   3.1s\n",
      "[CV] C=0.1 ...........................................................\n",
      "[CV] ...................... C=0.1, score=0.716358247813, total=   3.2s\n",
      "[CV] C=0.1 ...........................................................\n",
      "[CV] ...................... C=0.1, score=0.714450578946, total=   3.3s\n",
      "[CV] C=0.1 ...........................................................\n",
      "[CV] ...................... C=0.1, score=0.712123192993, total=   3.6s\n",
      "[CV] C=0.1 ...........................................................\n",
      "[CV] ...................... C=0.1, score=0.719205039243, total=   3.8s\n",
      "[CV] C=1.0 ...........................................................\n",
      "[CV] ........................ C=1.0, score=0.7200596485, total=   3.4s\n",
      "[CV] C=1.0 ...........................................................\n",
      "[CV] ...................... C=1.0, score=0.716359645856, total=   3.3s\n",
      "[CV] C=1.0 ...........................................................\n",
      "[CV] ...................... C=1.0, score=0.714443564266, total=   3.3s\n",
      "[CV] C=1.0 ...........................................................\n",
      "[CV] ...................... C=1.0, score=0.712113254438, total=   3.3s\n",
      "[CV] C=1.0 ...........................................................\n",
      "[CV] ...................... C=1.0, score=0.719201618923, total=   3.3s\n",
      "[CV] C=10.0 ..........................................................\n",
      "[CV] ..................... C=10.0, score=0.720059542595, total=   3.1s\n",
      "[CV] C=10.0 ..........................................................\n",
      "[CV] ..................... C=10.0, score=0.716359232798, total=   3.3s\n",
      "[CV] C=10.0 ..........................................................\n",
      "[CV] ..................... C=10.0, score=0.714443267572, total=   3.3s\n",
      "[CV] C=10.0 ..........................................................\n",
      "[CV] ..................... C=10.0, score=0.712113000147, total=   3.2s\n",
      "[CV] C=10.0 ..........................................................\n",
      "[CV] ..................... C=10.0, score=0.719200718839, total=   3.3s\n",
      "[CV] C=100.0 .........................................................\n",
      "[CV] .................... C=100.0, score=0.720059532004, total=   3.1s\n",
      "[CV] C=100.0 .........................................................\n",
      "[CV] .................... C=100.0, score=0.716358999791, total=   3.2s\n",
      "[CV] C=100.0 .........................................................\n",
      "[CV] .................... C=100.0, score=0.714443182803, total=   3.3s\n",
      "[CV] C=100.0 .........................................................\n",
      "[CV] .................... C=100.0, score=0.712112798833, total=   3.3s\n",
      "[CV] C=100.0 .........................................................\n",
      "[CV] .................... C=100.0, score=0.719200771785, total=   3.4s\n",
      "[CV] C=1000.0 ........................................................\n",
      "[CV] ................... C=1000.0, score=0.720059595547, total=   3.1s\n",
      "[CV] C=1000.0 ........................................................\n",
      "[CV] ................... C=1000.0, score=0.716359052747, total=   3.2s\n",
      "[CV] C=1000.0 ........................................................\n",
      "[CV] ................... C=1000.0, score=0.714443235784, total=   3.4s\n",
      "[CV] C=1000.0 ........................................................\n",
      "[CV] ................... C=1000.0, score=0.712112809428, total=   3.2s\n",
      "[CV] C=1000.0 ........................................................\n",
      "[CV] ................... C=1000.0, score=0.719200771785, total=   3.4s\n",
      "[CV] C=10000.0 .......................................................\n",
      "[CV] .................. C=10000.0, score=0.720059595547, total=   3.1s\n",
      "[CV] C=10000.0 .......................................................\n",
      "[CV] .................. C=10000.0, score=0.716359042156, total=   3.2s\n",
      "[CV] C=10000.0 .......................................................\n",
      "[CV] .................. C=10000.0, score=0.714443225188, total=   3.3s\n",
      "[CV] C=10000.0 .......................................................\n",
      "[CV] .................. C=10000.0, score=0.712112788237, total=   3.3s\n",
      "[CV] C=10000.0 .......................................................\n",
      "[CV] .................. C=10000.0, score=0.719200761196, total=   3.3s\n"
     ]
    },
    {
     "name": "stderr",
     "output_type": "stream",
     "text": [
      "[Parallel(n_jobs=1)]: Done  50 out of  50 | elapsed:  2.4min finished\n"
     ]
    },
    {
     "data": {
      "text/plain": [
       "GridSearchCV(cv=KFold(n_splits=5, random_state=168, shuffle=True),\n",
       "       error_score='raise',\n",
       "       estimator=LogisticRegression(C=1.0, class_weight=None, dual=False, fit_intercept=True,\n",
       "          intercept_scaling=1, max_iter=100, multi_class='ovr', n_jobs=1,\n",
       "          penalty='l2', random_state=168, solver='liblinear', tol=0.0001,\n",
       "          verbose=0, warm_start=False),\n",
       "       fit_params=None, iid=True, n_jobs=1,\n",
       "       param_grid={'C': array([1.e-05, 1.e-04, 1.e-03, 1.e-02, 1.e-01, 1.e+00, 1.e+01, 1.e+02,\n",
       "       1.e+03, 1.e+04])},\n",
       "       pre_dispatch='2*n_jobs', refit=True, return_train_score='warn',\n",
       "       scoring='roc_auc', verbose=10)"
      ]
     },
     "execution_count": 99,
     "metadata": {},
     "output_type": "execute_result"
    }
   ],
   "source": [
    "from sklearn.linear_model import LogisticRegression\n",
    "param_grid = {'C': np.power(10.0, np.arange(-5, 5))}\n",
    "log_model = LogisticRegression(random_state=random_state_value)\n",
    "cv = KFold(n_splits=5, shuffle=True, random_state=random_state_value)\n",
    "gs = GridSearchCV(log_model, param_grid = param_grid, scoring='roc_auc', cv=cv, verbose=10)\n",
    "gs.fit(X_s, np.ravel(y))"
   ]
  },
  {
   "cell_type": "code",
   "execution_count": 113,
   "metadata": {},
   "outputs": [
    {
     "data": {
      "image/png": "[encoded data removed]",
      "text/plain": [
       "<Figure size 432x288 with 1 Axes>"
      ]
     },
     "metadata": {},
     "output_type": "display_data"
    }
   ],
   "source": [
    "plt.figure()\n",
    "plt.plot(np.log10(param_grid['C']), gs.cv_results_['mean_test_score'], 'ro')\n",
    "plt.legend(['Score'], loc = 'best')\n",
    "plt.title('Logistic regression')\n",
    "plt.xlabel('power C')\n",
    "plt.show()"
   ]
  },
  {
   "cell_type": "code",
   "execution_count": 114,
   "metadata": {},
   "outputs": [
    {
     "data": {
      "text/plain": [
       "[(0.01, 0.7164670835719283),\n",
       " (0.1, 0.7164388246805183),\n",
       " (1.0, 0.7164355463966395),\n",
       " (10.0, 0.7164351523901097),\n",
       " (1000.0, 0.7164350930582611),\n",
       " (10000.0, 0.7164350824647403),\n",
       " (100.0, 0.7164350570430827),\n",
       " (0.001, 0.7162894676409667),\n",
       " (0.0001, 0.7113050928553378),\n",
       " (1e-05, 0.6951012331675626)]"
      ]
     },
     "execution_count": 114,
     "metadata": {},
     "output_type": "execute_result"
    }
   ],
   "source": [
    "sorted(zip(gs.cv_results_['param_C'].data, gs.cv_results_['mean_test_score']), key=lambda x:x[1], reverse=True)"
   ]
  },
  {
   "cell_type": "markdown",
   "metadata": {},
   "source": [
    "Наибольшая площадь под ROC-кривой 0.71647 достигается при значении C=0.01."
   ]
  },
  {
   "cell_type": "markdown",
   "metadata": {},
   "source": [
    "Время, затраченное на валидацию"
   ]
  },
  {
   "cell_type": "code",
   "execution_count": 115,
   "metadata": {},
   "outputs": [
    {
     "data": {
      "image/png": "[encoded data removed]",
      "text/plain": [
       "<Figure size 432x288 with 1 Axes>"
      ]
     },
     "metadata": {},
     "output_type": "display_data"
    }
   ],
   "source": [
    "plt.figure()\n",
    "plt.plot(np.log10(param_grid['C']), gs.cv_results_['mean_fit_time'], 'ro')\n",
    "plt.legend(['Fit Time'], loc = 'best')\n",
    "plt.title('Logistic regression')\n",
    "plt.xlabel('power C')\n",
    "plt.show()"
   ]
  },
  {
   "cell_type": "code",
   "execution_count": 116,
   "metadata": {},
   "outputs": [
    {
     "data": {
      "text/plain": [
       "28.31439986228943"
      ]
     },
     "execution_count": 116,
     "metadata": {},
     "output_type": "execute_result"
    }
   ],
   "source": [
    "sum(gs.cv_results_['mean_fit_time'])"
   ]
  },
  {
   "cell_type": "markdown",
   "metadata": {},
   "source": [
    "Отметим, что скорость логистической регрессии оказывается значительно выше градиентного бустинга. При этом логистическая регрессиия имеет лучший показатель AUC-ROC по сравнению с градиентным бустингом."
   ]
  },
  {
   "cell_type": "markdown",
   "metadata": {},
   "source": [
    "Попробуем улучшить качество модели:\n",
    "* Уберем из выборки категорийные переменные, которые использовались как числовые. \n",
    "* Проведем стандартизацию признаков."
   ]
  },
  {
   "cell_type": "code",
   "execution_count": 117,
   "metadata": {},
   "outputs": [],
   "source": [
    "X_num = X.drop([\"lobby_type\", \"r1_hero\", \"r2_hero\", \"r3_hero\", \"r4_hero\", \"r5_hero\", \"d1_hero\", \"d2_hero\", \"d3_hero\", \"d4_hero\", \"d5_hero\"], 1)\n",
    "X_num_s = scaler.fit_transform(X_num)"
   ]
  },
  {
   "cell_type": "markdown",
   "metadata": {},
   "source": [
    "Обучим классификатор на новой выборке `X_num_s`."
   ]
  },
  {
   "cell_type": "code",
   "execution_count": 119,
   "metadata": {},
   "outputs": [
    {
     "data": {
      "image/png": "[encoded data removed]",
      "text/plain": [
       "<Figure size 432x288 with 1 Axes>"
      ]
     },
     "metadata": {},
     "output_type": "display_data"
    },
    {
     "data": {
      "text/plain": [
       "[(0.01, 0.7165256687121241),\n",
       " (0.1, 0.7164991828075626),\n",
       " (10.0, 0.7164948578634309),\n",
       " (1.0, 0.7164948346311294),\n",
       " (100.0, 0.7164946587149207),\n",
       " (1000.0, 0.7164946226980821),\n",
       " (10000.0, 0.716494614220996),\n",
       " (0.001, 0.7163519292770034),\n",
       " (0.0001, 0.711318465637399),\n",
       " (1e-05, 0.69506434304766)]"
      ]
     },
     "execution_count": 119,
     "metadata": {},
     "output_type": "execute_result"
    }
   ],
   "source": [
    "param_grid = {'C': np.power(10.0, np.arange(-5, 5))}\n",
    "log_model = LogisticRegression(random_state=random_state_value)\n",
    "cv = KFold(n_splits=5, shuffle=True, random_state=random_state_value)\n",
    "gs = GridSearchCV(log_model, param_grid = param_grid, scoring='roc_auc', cv=cv)\n",
    "gs.fit(X_num_s, np.ravel(y))\n",
    "\n",
    "plt.figure()\n",
    "plt.plot(np.log10(param_grid['C']), gs.cv_results_['mean_test_score'], 'ro')\n",
    "plt.legend(['Score'], loc = 'best')\n",
    "plt.title('Logistic regression')\n",
    "plt.xlabel('power C')\n",
    "plt.show()\n",
    "\n",
    "sorted(zip(gs.cv_results_['param_C'].data, gs.cv_results_['mean_test_score']), key=lambda x:x[1], reverse=True)"
   ]
  },
  {
   "cell_type": "markdown",
   "metadata": {},
   "source": [
    "Также как и в первом случае наиилучшее качество достигнуто при C=0.01. При этом качество выросло незначительно с 0.71647 до 0.71652. \n",
    "С одной стороны мы убрали из признаков категориальные переменные, с которыми плохо работает логистическая регрессия, что и дало лучшее качество модели. Но с другой стороны мы полностью убрали из принаков составы героев команд. А интуиция полсказывает, что результаты игр должны зависеть от того, какие герои играют."
   ]
  },
  {
   "cell_type": "markdown",
   "metadata": {},
   "source": [
    "Закодируем признак принадлежности командам героев определенного типа с помощью \"мешка слов\". \n",
    "Посчитаем количество уникальных типов героев."
   ]
  },
  {
   "cell_type": "code",
   "execution_count": 131,
   "metadata": {},
   "outputs": [],
   "source": [
    "heroes = X[['r1_hero', 'r2_hero', 'r3_hero', 'r4_hero', 'r5_hero', 'd1_hero', 'd2_hero', 'd3_hero', 'd4_hero', 'd5_hero']]\n",
    "heroes = heroes.stack().unique()"
   ]
  },
  {
   "cell_type": "code",
   "execution_count": 132,
   "metadata": {},
   "outputs": [
    {
     "data": {
      "text/plain": [
       "108"
      ]
     },
     "execution_count": 132,
     "metadata": {},
     "output_type": "execute_result"
    }
   ],
   "source": [
    "len(heroes)"
   ]
  },
  {
   "cell_type": "code",
   "execution_count": 134,
   "metadata": {
    "collapsed": true
   },
   "outputs": [
    {
     "data": {
      "text/plain": [
       "[1,\n",
       " 2,\n",
       " 3,\n",
       " 4,\n",
       " 5,\n",
       " 6,\n",
       " 7,\n",
       " 8,\n",
       " 9,\n",
       " 10,\n",
       " 11,\n",
       " 12,\n",
       " 13,\n",
       " 14,\n",
       " 15,\n",
       " 16,\n",
       " 17,\n",
       " 18,\n",
       " 19,\n",
       " 20,\n",
       " 21,\n",
       " 22,\n",
       " 23,\n",
       " 25,\n",
       " 26,\n",
       " 27,\n",
       " 28,\n",
       " 29,\n",
       " 30,\n",
       " 31,\n",
       " 32,\n",
       " 33,\n",
       " 34,\n",
       " 35,\n",
       " 36,\n",
       " 37,\n",
       " 38,\n",
       " 39,\n",
       " 40,\n",
       " 41,\n",
       " 42,\n",
       " 43,\n",
       " 44,\n",
       " 45,\n",
       " 46,\n",
       " 47,\n",
       " 48,\n",
       " 49,\n",
       " 50,\n",
       " 51,\n",
       " 52,\n",
       " 53,\n",
       " 54,\n",
       " 55,\n",
       " 56,\n",
       " 57,\n",
       " 58,\n",
       " 59,\n",
       " 60,\n",
       " 61,\n",
       " 62,\n",
       " 63,\n",
       " 64,\n",
       " 65,\n",
       " 66,\n",
       " 67,\n",
       " 68,\n",
       " 69,\n",
       " 70,\n",
       " 71,\n",
       " 72,\n",
       " 73,\n",
       " 74,\n",
       " 75,\n",
       " 76,\n",
       " 77,\n",
       " 78,\n",
       " 79,\n",
       " 80,\n",
       " 81,\n",
       " 82,\n",
       " 83,\n",
       " 84,\n",
       " 85,\n",
       " 86,\n",
       " 87,\n",
       " 88,\n",
       " 89,\n",
       " 90,\n",
       " 91,\n",
       " 92,\n",
       " 93,\n",
       " 94,\n",
       " 95,\n",
       " 96,\n",
       " 97,\n",
       " 98,\n",
       " 99,\n",
       " 100,\n",
       " 101,\n",
       " 102,\n",
       " 103,\n",
       " 104,\n",
       " 105,\n",
       " 106,\n",
       " 109,\n",
       " 110,\n",
       " 112]"
      ]
     },
     "execution_count": 134,
     "metadata": {},
     "output_type": "execute_result"
    }
   ],
   "source": [
    "sorted(heroes)"
   ]
  },
  {
   "cell_type": "markdown",
   "metadata": {},
   "source": [
    "Отметим, что уникальных идентификаторов героев 108, а максимальное значение идентификатора героев 112. То есть как минимум 4 типами героев не играл никто в тестовом датасете. Добавим все 112 столбцов-признаков со значениями:\n",
    "* 0, если герой не участвовал в матче;\n",
    "* 1, если герой играл за команду Radiant;\n",
    "* -1, если герой играл за команду Dire."
   ]
  },
  {
   "cell_type": "code",
   "execution_count": 137,
   "metadata": {},
   "outputs": [],
   "source": [
    "X_pick = np.zeros((X_num.shape[0], 112))\n",
    "\n",
    "for i, match_id in enumerate(features.index):\n",
    "    for p in xrange(5):\n",
    "        X_pick[i, features.loc[match_id, 'r%d_hero' % (p+1)]-1] = 1\n",
    "        X_pick[i, features.loc[match_id, 'd%d_hero' % (p+1)]-1] = -1"
   ]
  },
  {
   "cell_type": "code",
   "execution_count": 140,
   "metadata": {},
   "outputs": [],
   "source": [
    "X_united = pd.DataFrame(np.concatenate([X_num, pd.DataFrame(X_pick)], axis=1))\n",
    "X_united_s = scaler.fit_transform(X_united)"
   ]
  },
  {
   "cell_type": "markdown",
   "metadata": {},
   "source": [
    "Обучим логистическую регрессию."
   ]
  },
  {
   "cell_type": "code",
   "execution_count": 141,
   "metadata": {},
   "outputs": [
    {
     "data": {
      "image/png": "[encoded data removed]",
      "text/plain": [
       "<Figure size 432x288 with 1 Axes>"
      ]
     },
     "metadata": {},
     "output_type": "display_data"
    },
    {
     "data": {
      "text/plain": [
       "[(0.01, 0.751953554068417),\n",
       " (0.1, 0.751909917448487),\n",
       " (1.0, 0.7519027962533161),\n",
       " (100.0, 0.7519021903587998),\n",
       " (1000.0, 0.7519021670475319),\n",
       " (10000.0, 0.7519021628130973),\n",
       " (10.0, 0.7519021352647559),\n",
       " (0.001, 0.7516359309629147),\n",
       " (0.0001, 0.7428147567468651),\n",
       " (1e-05, 0.7148354985869138)]"
      ]
     },
     "execution_count": 141,
     "metadata": {},
     "output_type": "execute_result"
    }
   ],
   "source": [
    "param_grid = {'C': np.power(10.0, np.arange(-5, 5))}\n",
    "log_model = LogisticRegression(random_state=random_state_value)\n",
    "cv = KFold(n_splits=5, shuffle=True, random_state=random_state_value)\n",
    "gs = GridSearchCV(log_model, param_grid = param_grid, scoring='roc_auc', cv=cv)\n",
    "gs.fit(X_united_s, np.ravel(y))\n",
    "\n",
    "plt.figure()\n",
    "plt.plot(np.log10(param_grid['C']), gs.cv_results_['mean_test_score'], 'ro')\n",
    "plt.legend(['Score'], loc = 'best')\n",
    "plt.title('Logistic regression')\n",
    "plt.xlabel('power C')\n",
    "plt.show()\n",
    "\n",
    "sorted(zip(gs.cv_results_['param_C'].data, gs.cv_results_['mean_test_score']), key=lambda x:x[1], reverse=True)"
   ]
  },
  {
   "cell_type": "markdown",
   "metadata": {},
   "source": [
    "И опять лучшие значение качества 0.75195 достигнуто при C=0.01."
   ]
  },
  {
   "cell_type": "code",
   "execution_count": 142,
   "metadata": {},
   "outputs": [
    {
     "data": {
      "text/plain": [
       "45.59000005722046"
      ]
     },
     "execution_count": 142,
     "metadata": {},
     "output_type": "execute_result"
    }
   ],
   "source": [
    "sum(gs.cv_results_['mean_fit_time'])"
   ]
  },
  {
   "cell_type": "markdown",
   "metadata": {},
   "source": [
    "Общее время валидации почти 46 секунд. \n",
    "Теперь качество выросло достаточно сильно (почти на 0.03), что подтверждает интуитивное предположение о том, что информация о типах героев действительно является ценной и вносит значимый вклад в итог игры.\n",
    "\n",
    "Лучшей из исследованных моделей оказалась логистическая регрессия c обнуленными значениями пропусков, с дополнительными признаками принадлежности героев к командам, с L2-регуляризацией с параметром C = 0.01 и стандартизированными значениями признаков.\n",
    "Используем эту модель для предсказания итога игры на тестовых данных."
   ]
  },
  {
   "cell_type": "markdown",
   "metadata": {},
   "source": [
    "Загужаем тестовые данные и воспроизводим все проведенные операции над признаками"
   ]
  },
  {
   "cell_type": "code",
   "execution_count": 146,
   "metadata": {},
   "outputs": [],
   "source": [
    "featuresT = pd.read_csv(r'./features_test.csv', index_col='match_id')\n",
    "X_ = featuresT.drop([\"lobby_type\", \n",
    "                     \"r1_hero\", \"r2_hero\", \"r3_hero\", \"r4_hero\", \"r5_hero\",\n",
    "                     \"d1_hero\", \"d2_hero\", \"d3_hero\", \"d4_hero\", \"d5_hero\"], 1)\n",
    "X_.fillna(0, inplace=True)\n",
    "\n",
    "X_pick_T = np.zeros((X_.shape[0], 112))\n",
    "\n",
    "for i, match_id in enumerate(featuresT.index):\n",
    "    for p in xrange(5):\n",
    "        X_pick_T[i, featuresT.loc[match_id, 'r%d_hero' % (p+1)]-1] = 1\n",
    "        X_pick_T[i, featuresT.loc[match_id, 'd%d_hero' % (p+1)]-1] = -1\n",
    "X_united_T = pd.DataFrame(np.concatenate([X_, pd.DataFrame(X_pick_T)], axis=1))\n",
    "X_united_s_T = scaler.fit_transform(X_united_T)"
   ]
  },
  {
   "cell_type": "markdown",
   "metadata": {},
   "source": [
    "Применям построенную модель к тестовым данным"
   ]
  },
  {
   "cell_type": "code",
   "execution_count": 147,
   "metadata": {},
   "outputs": [],
   "source": [
    "logistic = gs.best_estimator_.predict_proba(X_united_s_T)"
   ]
  },
  {
   "cell_type": "markdown",
   "metadata": {},
   "source": [
    "Посмотрим на распределение вероятности выигрыша команды Radiant"
   ]
  },
  {
   "cell_type": "code",
   "execution_count": 176,
   "metadata": {},
   "outputs": [
    {
     "data": {
      "image/png": "[encoded data removed]",
      "text/plain": [
       "<Figure size 432x288 with 1 Axes>"
      ]
     },
     "metadata": {},
     "output_type": "display_data"
    }
   ],
   "source": [
    "plt.hist(logistic[:,:1], bins='auto')\n",
    "plt.title(\"Histogram of Radiant's winning probability\")\n",
    "plt.show()"
   ]
  },
  {
   "cell_type": "code",
   "execution_count": 177,
   "metadata": {},
   "outputs": [
    {
     "data": {
      "text/plain": [
       "(array([0.00367128]), array([0.9912941]))"
      ]
     },
     "execution_count": 177,
     "metadata": {},
     "output_type": "execute_result"
    }
   ],
   "source": [
    "min(logistic[:,:1]), max(logistic[:,:1])"
   ]
  },
  {
   "cell_type": "markdown",
   "metadata": {},
   "source": [
    "Убедились, что предсказания адекватные: лежат в промежутке [0, 1], имеют близкую к нормальной форму распределения."
   ]
  },
  {
   "cell_type": "markdown",
   "metadata": {},
   "source": [
    "К сожалению не удалось залить на Kaggle свою модель, чтобы сравнить свои результаты с другими."
   ]
  }
 ],
 "metadata": {
  "kernelspec": {
   "display_name": "Python 3",
   "language": "python",
   "name": "python3"
  },
  "language_info": {
   "codemirror_mode": {
    "name": "ipython",
    "version": 3
   },
   "file_extension": ".py",
   "mimetype": "text/x-python",
   "name": "python",
   "nbconvert_exporter": "python",
   "pygments_lexer": "ipython3",
   "version": "3.7.0"
  }
 },
 "nbformat": 4,
 "nbformat_minor": 1
}
