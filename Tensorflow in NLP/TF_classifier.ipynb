{
 "cells": [
  {
   "cell_type": "code",
   "execution_count": 25,
   "metadata": {},
   "outputs": [],
   "source": [
    "import json\n",
    "import tensorflow as tf\n",
    "import numpy as np\n",
    "\n",
    "from tensorflow.keras.preprocessing.text import Tokenizer\n",
    "from tensorflow.keras.preprocessing.sequence import pad_sequences"
   ]
  },
  {
   "cell_type": "code",
   "execution_count": 57,
   "metadata": {},
   "outputs": [],
   "source": [
    "vocab_size = 1000\n",
    "embedding_dim = 32\n",
    "max_length = 16\n",
    "trunc_type = 'post'\n",
    "padding_type = 'post'\n",
    "oov_tok = \"<OOV>\"\n",
    "training_size = 20000"
   ]
  },
  {
   "cell_type": "code",
   "execution_count": 58,
   "metadata": {},
   "outputs": [],
   "source": [
    "datastore = []\n",
    "for line in open('Data/Sarcasm_Headlines_Dataset.json', 'r'):\n",
    "    datastore.append(json.loads(line))\n",
    "\n",
    "sentences = []\n",
    "labels = []\n",
    "urls = []\n",
    "\n",
    "for items in datastore:\n",
    "    sentences.append(items['headline'])\n",
    "    labels.append(items['is_sarcastic'])"
   ]
  },
  {
   "cell_type": "code",
   "execution_count": 59,
   "metadata": {},
   "outputs": [],
   "source": [
    "training_sentences = sentences[0:training_size]\n",
    "testing_sentences = sentences[training_size:]\n",
    "training_labels = np.array(labels[0:training_size])\n",
    "testing_labels = np.array(labels[training_size:])"
   ]
  },
  {
   "cell_type": "code",
   "execution_count": 60,
   "metadata": {},
   "outputs": [],
   "source": [
    "tokenizer = Tokenizer(num_words=vocab_size, oov_token=oov_tok)\n",
    "tokenizer.fit_on_texts(training_sentences)\n",
    "\n",
    "word_index = tokenizer.word_index\n",
    "\n",
    "training_sequences = tokenizer.texts_to_sequences(training_sentences)\n",
    "training_padded = pad_sequences(training_sequences, truncating=trunc_type, maxlen=max_length, padding=padding_type)\n",
    "\n",
    "testing_sentences = tokenizer.texts_to_sequences(testing_sentences)\n",
    "testing_padded = pad_sequences(testing_sentences, maxlen=max_length, padding=padding_type, truncating=trunc_type)"
   ]
  },
  {
   "cell_type": "code",
   "execution_count": 61,
   "metadata": {},
   "outputs": [
    {
     "name": "stdout",
     "output_type": "stream",
     "text": [
      "Model: \"sequential_3\"\n",
      "_________________________________________________________________\n",
      "Layer (type)                 Output Shape              Param #   \n",
      "=================================================================\n",
      "embedding_3 (Embedding)      (None, 16, 32)            32000     \n",
      "_________________________________________________________________\n",
      "global_average_pooling1d_3 ( (None, 32)                0         \n",
      "_________________________________________________________________\n",
      "dense_6 (Dense)              (None, 24)                792       \n",
      "_________________________________________________________________\n",
      "dense_7 (Dense)              (None, 1)                 25        \n",
      "=================================================================\n",
      "Total params: 32,817\n",
      "Trainable params: 32,817\n",
      "Non-trainable params: 0\n",
      "_________________________________________________________________\n"
     ]
    }
   ],
   "source": [
    "model = tf.keras.Sequential([\n",
    "    tf.keras.layers.Embedding(vocab_size, embedding_dim, input_length=max_length),\n",
    "    tf.keras.layers.GlobalAveragePooling1D(),\n",
    "    tf.keras.layers.Dense(24, activation='relu'),\n",
    "    tf.keras.layers.Dense(1, activation='sigmoid')\n",
    "])\n",
    "model.compile(loss='binary_crossentropy',optimizer='adam',metrics=['accuracy'])\n",
    "model.summary()"
   ]
  },
  {
   "cell_type": "code",
   "execution_count": 62,
   "metadata": {},
   "outputs": [
    {
     "name": "stdout",
     "output_type": "stream",
     "text": [
      "Train on 20000 samples, validate on 8619 samples\n",
      "Epoch 1/30\n",
      "20000/20000 - 1s - loss: 0.5042 - accuracy: 0.7509 - val_loss: 0.4015 - val_accuracy: 0.8129\n",
      "Epoch 2/30\n",
      "20000/20000 - 1s - loss: 0.3829 - accuracy: 0.8252 - val_loss: 0.3882 - val_accuracy: 0.8234\n",
      "Epoch 3/30\n",
      "20000/20000 - 1s - loss: 0.3701 - accuracy: 0.8304 - val_loss: 0.3954 - val_accuracy: 0.8198\n",
      "Epoch 4/30\n",
      "20000/20000 - 1s - loss: 0.3662 - accuracy: 0.8320 - val_loss: 0.3907 - val_accuracy: 0.8205\n",
      "Epoch 5/30\n",
      "20000/20000 - 1s - loss: 0.3642 - accuracy: 0.8331 - val_loss: 0.3926 - val_accuracy: 0.8153\n",
      "Epoch 6/30\n",
      "20000/20000 - 1s - loss: 0.3623 - accuracy: 0.8329 - val_loss: 0.3910 - val_accuracy: 0.8192\n",
      "Epoch 7/30\n",
      "20000/20000 - 1s - loss: 0.3608 - accuracy: 0.8339 - val_loss: 0.3923 - val_accuracy: 0.8175\n",
      "Epoch 8/30\n",
      "20000/20000 - 1s - loss: 0.3593 - accuracy: 0.8363 - val_loss: 0.3909 - val_accuracy: 0.8196\n",
      "Epoch 9/30\n",
      "20000/20000 - 1s - loss: 0.3567 - accuracy: 0.8375 - val_loss: 0.3866 - val_accuracy: 0.8221\n",
      "Epoch 10/30\n",
      "20000/20000 - 1s - loss: 0.3522 - accuracy: 0.8401 - val_loss: 0.3884 - val_accuracy: 0.8219\n",
      "Epoch 11/30\n",
      "20000/20000 - 1s - loss: 0.3473 - accuracy: 0.8439 - val_loss: 0.3790 - val_accuracy: 0.8260\n",
      "Epoch 12/30\n",
      "20000/20000 - 1s - loss: 0.3412 - accuracy: 0.8467 - val_loss: 0.3767 - val_accuracy: 0.8281\n",
      "Epoch 13/30\n",
      "20000/20000 - 1s - loss: 0.3369 - accuracy: 0.8498 - val_loss: 0.3762 - val_accuracy: 0.8292\n",
      "Epoch 14/30\n",
      "20000/20000 - 1s - loss: 0.3329 - accuracy: 0.8527 - val_loss: 0.3754 - val_accuracy: 0.8297\n",
      "Epoch 15/30\n",
      "20000/20000 - 1s - loss: 0.3299 - accuracy: 0.8540 - val_loss: 0.3775 - val_accuracy: 0.8299\n",
      "Epoch 16/30\n",
      "20000/20000 - 1s - loss: 0.3272 - accuracy: 0.8539 - val_loss: 0.3805 - val_accuracy: 0.8291\n",
      "Epoch 17/30\n",
      "20000/20000 - 1s - loss: 0.3240 - accuracy: 0.8549 - val_loss: 0.3786 - val_accuracy: 0.8305\n",
      "Epoch 18/30\n",
      "20000/20000 - 1s - loss: 0.3211 - accuracy: 0.8570 - val_loss: 0.3795 - val_accuracy: 0.8288\n",
      "Epoch 19/30\n",
      "20000/20000 - 1s - loss: 0.3186 - accuracy: 0.8575 - val_loss: 0.3821 - val_accuracy: 0.8289\n",
      "Epoch 20/30\n",
      "20000/20000 - 1s - loss: 0.3169 - accuracy: 0.8601 - val_loss: 0.3845 - val_accuracy: 0.8286\n",
      "Epoch 21/30\n",
      "20000/20000 - 1s - loss: 0.3144 - accuracy: 0.8601 - val_loss: 0.3893 - val_accuracy: 0.8262\n",
      "Epoch 22/30\n",
      "20000/20000 - 1s - loss: 0.3130 - accuracy: 0.8607 - val_loss: 0.3894 - val_accuracy: 0.8285\n",
      "Epoch 23/30\n",
      "20000/20000 - 1s - loss: 0.3112 - accuracy: 0.8610 - val_loss: 0.3905 - val_accuracy: 0.8271\n",
      "Epoch 24/30\n",
      "20000/20000 - 1s - loss: 0.3089 - accuracy: 0.8622 - val_loss: 0.4069 - val_accuracy: 0.8136\n",
      "Epoch 25/30\n",
      "20000/20000 - 1s - loss: 0.3075 - accuracy: 0.8629 - val_loss: 0.3960 - val_accuracy: 0.8249\n",
      "Epoch 26/30\n",
      "20000/20000 - 1s - loss: 0.3064 - accuracy: 0.8628 - val_loss: 0.3980 - val_accuracy: 0.8236\n",
      "Epoch 27/30\n",
      "20000/20000 - 1s - loss: 0.3043 - accuracy: 0.8640 - val_loss: 0.3991 - val_accuracy: 0.8267\n",
      "Epoch 28/30\n",
      "20000/20000 - 1s - loss: 0.3030 - accuracy: 0.8651 - val_loss: 0.3999 - val_accuracy: 0.8245\n",
      "Epoch 29/30\n",
      "20000/20000 - 1s - loss: 0.3013 - accuracy: 0.8662 - val_loss: 0.4029 - val_accuracy: 0.8233\n",
      "Epoch 30/30\n",
      "20000/20000 - 1s - loss: 0.2995 - accuracy: 0.8661 - val_loss: 0.4031 - val_accuracy: 0.8242\n"
     ]
    }
   ],
   "source": [
    "num_epochs = 30\n",
    "history = model.fit(training_padded, training_labels, epochs=num_epochs, \n",
    "                    validation_data=(testing_padded, testing_labels), verbose=2)"
   ]
  },
  {
   "cell_type": "code",
   "execution_count": 63,
   "metadata": {},
   "outputs": [],
   "source": [
    "import matplotlib.pyplot as plt\n",
    "\n",
    "def plot_graphs(history, string):\n",
    "    plt.plot(history.history[string])\n",
    "    plt.plot(history.history['val_'+string])\n",
    "    plt.xlabel(\"Epochs\")\n",
    "    plt.ylabel(string)\n",
    "    plt.legend([string, 'val_'+string])\n",
    "    plt.show()"
   ]
  },
  {
   "cell_type": "code",
   "execution_count": 64,
   "metadata": {},
   "outputs": [
    {
     "data": {
      "image/png": "[encoded data removed]",
      "text/plain": [
       "<Figure size 432x288 with 1 Axes>"
      ]
     },
     "metadata": {
      "needs_background": "light"
     },
     "output_type": "display_data"
    },
    {
     "data": {
      "image/png": "[encoded data removed]",
      "text/plain": [
       "<Figure size 432x288 with 1 Axes>"
      ]
     },
     "metadata": {
      "needs_background": "light"
     },
     "output_type": "display_data"
    }
   ],
   "source": [
    "plot_graphs(history, \"accuracy\")\n",
    "plot_graphs(history, \"loss\")"
   ]
  },
  {
   "cell_type": "code",
   "execution_count": null,
   "metadata": {},
   "outputs": [],
   "source": []
  },
  {
   "cell_type": "code",
   "execution_count": 65,
   "metadata": {},
   "outputs": [],
   "source": [
    "#https://www.tensorflow.org/datasets/api_docs/python/tfds/features/text/SubwordTextEncoder"
   ]
  },
  {
   "cell_type": "code",
   "execution_count": 66,
   "metadata": {},
   "outputs": [
    {
     "ename": "NameError",
     "evalue": "name 'info' is not defined",
     "output_type": "error",
     "traceback": [
      "\u001b[0;31m---------------------------------------------------------------------------\u001b[0m",
      "\u001b[0;31mNameError\u001b[0m                                 Traceback (most recent call last)",
      "\u001b[0;32m<ipython-input-66-16190fa869a7>\u001b[0m in \u001b[0;36m<module>\u001b[0;34m\u001b[0m\n\u001b[0;32m----> 1\u001b[0;31m \u001b[0minfo\u001b[0m\u001b[0;34m.\u001b[0m\u001b[0mfeatures\u001b[0m\u001b[0;34m[\u001b[0m\u001b[0;34m'text'\u001b[0m\u001b[0;34m]\u001b[0m\u001b[0;34m\u001b[0m\u001b[0;34m\u001b[0m\u001b[0m\n\u001b[0m",
      "\u001b[0;31mNameError\u001b[0m: name 'info' is not defined"
     ]
    }
   ],
   "source": [
    "info.features['text']"
   ]
  },
  {
   "cell_type": "code",
   "execution_count": null,
   "metadata": {},
   "outputs": [],
   "source": []
  }
 ],
 "metadata": {
  "kernelspec": {
   "display_name": "Python 3",
   "language": "python",
   "name": "python3"
  },
  "language_info": {
   "codemirror_mode": {
    "name": "ipython",
    "version": 3
   },
   "file_extension": ".py",
   "mimetype": "text/x-python",
   "name": "python",
   "nbconvert_exporter": "python",
   "pygments_lexer": "ipython3",
   "version": "3.7.3"
  }
 },
 "nbformat": 4,
 "nbformat_minor": 2
}
